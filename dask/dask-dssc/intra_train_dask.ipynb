{
 "cells": [
  {
   "cell_type": "markdown",
   "metadata": {},
   "source": [
    "# Example processing: Intra-train heating\n",
    "This uses a simplified version of the process_dssc_module function:\n",
    "\n",
    "* frames are not grouped (e.g., in 'pumped', 'unpumped' or 'dark' frames)\n",
    "* no selection of trains and/or pulses is done\n",
    "\n",
    "The purpose of this analysis is to check how robust the diffraction signal is with respect to the repeated heat and radiation load from high repetition-rate pump-probe runs. Thus, we average over all trains within the run, but keep all individual pulses."
   ]
  },
  {
   "cell_type": "code",
   "execution_count": 1,
   "metadata": {},
   "outputs": [
    {
     "data": {
      "text/plain": [
       "'0.7.0'"
      ]
     },
     "execution_count": 1,
     "metadata": {},
     "output_type": "execute_result"
    }
   ],
   "source": [
    "import karabo_data as kd\n",
    "import numpy as np\n",
    "import xarray as xr\n",
    "import matplotlib.pyplot as plt\n",
    "from tqdm.auto import tqdm\n",
    "from time import strftime\n",
    "from matplotlib.colors import LogNorm, BoundaryNorm\n",
    "import os\n",
    "import dssc_process as dp\n",
    "\n",
    "import dask.array as da\n",
    "from dask.distributed import Client\n",
    "from dask_jobqueue import SLURMCluster\n",
    "\n",
    "kd.__version__"
   ]
  },
  {
   "cell_type": "code",
   "execution_count": 2,
   "metadata": {},
   "outputs": [],
   "source": [
    "%matplotlib widget"
   ]
  },
  {
   "cell_type": "code",
   "execution_count": 3,
   "metadata": {},
   "outputs": [],
   "source": [
    "# make sure subfolders exist\n",
    "for f in ['tmp', 'images', 'processed_runs']:\n",
    "    if not os.path.isdir(f):\n",
    "        os.mkdir(f)"
   ]
  },
  {
   "cell_type": "markdown",
   "metadata": {},
   "source": [
    "## setup run information and index non-DSSC data"
   ]
  },
  {
   "cell_type": "code",
   "execution_count": 4,
   "metadata": {},
   "outputs": [
    {
     "name": "stdout",
     "output_type": "stream",
     "text": [
      "# of trains:    1691\n",
      "Duration:       0:02:49\n",
      "First train ID: 517552829\n",
      "Last train ID:  517554519\n",
      "\n",
      "0 detector modules ()\n",
      "\n",
      "3 instrument sources (excluding detectors):\n",
      "  - SA3_XTD10_XGM/XGM/DOOCS:output\n",
      "  - SCS_BLU_XGM/XGM/DOOCS:output\n",
      "  - SCS_UTC1_ADQ/ADC/1:network\n",
      "\n",
      "20 control sources:\n",
      "  - P_GATT\n",
      "  - SA3_XTD10_MONO/ENC/GRATING_AX\n",
      "  - SA3_XTD10_MONO/MDL/PHOTON_ENERGY\n",
      "  - SA3_XTD10_MONO/MOTOR/GRATINGS_X\n",
      "  - SA3_XTD10_MONO/MOTOR/GRATING_AX\n",
      "  - SA3_XTD10_MONO/MOTOR/HE_PM_X\n",
      "  - SA3_XTD10_MONO/MOTOR/LE_PM_X\n",
      "  - SA3_XTD10_VAC/DCTRL/AR_MODE_OK\n",
      "  - SA3_XTD10_VAC/DCTRL/D12_APERT_IN_OK\n",
      "  - SA3_XTD10_VAC/DCTRL/D6_APERT_IN_OK\n",
      "  - SA3_XTD10_VAC/DCTRL/N2_MODE_OK\n",
      "  - SA3_XTD10_VAC/GAUGE/G30470D_IN\n",
      "  - SA3_XTD10_VAC/GAUGE/G30480D_IN\n",
      "  - SA3_XTD10_VAC/GAUGE/G30490D_IN\n",
      "  - SA3_XTD10_VAC/GAUGE/G30510C\n",
      "  - SA3_XTD10_XGM/XGM/DOOCS\n",
      "  - SCS_BLU_XGM/XGM/DOOCS\n",
      "  - SCS_RR_UTC/MDL/BUNCH_DECODER\n",
      "  - SCS_RR_UTC/TSYS/TIMESERVER\n",
      "  - SCS_UTC1_ADQ/ADC/1\n",
      "\n",
      "CPU times: user 25.2 ms, sys: 11.7 ms, total: 36.9 ms\n",
      "Wall time: 157 ms\n"
     ]
    }
   ],
   "source": [
    "%%time\n",
    "\n",
    "# basic run information\n",
    "proposal = 2212\n",
    "run_nr = 89\n",
    "is_dark = False\n",
    "\n",
    "#The files used for comparing GPFS and dCache:\n",
    "#dirpath = '/gpfs/exfel/exp/XMPL/201750/p700000/raw/r0026' #GPFS\n",
    "#dirpath = '/gpfs/exfel/exp/SCS/201901/p002212/raw/r0125' #dCache\n",
    "\n",
    "\n",
    "# index non-DSSC data\n",
    "run = kd.open_run(proposal, run_nr, include='*DA*')\n",
    "run.info()"
   ]
  },
  {
   "cell_type": "markdown",
   "metadata": {},
   "source": [
    "## load XGM (but no filtering/ thresholding)"
   ]
  },
  {
   "cell_type": "code",
   "execution_count": 5,
   "metadata": {},
   "outputs": [
    {
     "name": "stdout",
     "output_type": "stream",
     "text": [
      "SASE3 bunches per train: 75\n"
     ]
    }
   ],
   "source": [
    "if not is_dark:\n",
    "    xgm = dp.load_xgm(run, print_info=True)"
   ]
  },
  {
   "cell_type": "markdown",
   "metadata": {},
   "source": [
    "## plot XGM"
   ]
  },
  {
   "cell_type": "code",
   "execution_count": 6,
   "metadata": {},
   "outputs": [
    {
     "data": {
      "application/vnd.jupyter.widget-view+json": {
       "model_id": "000d91cf24a0415b8c134f4d94c6a7d2",
       "version_major": 2,
       "version_minor": 0
      },
      "text/plain": [
       "FigureCanvasNbAgg()"
      ]
     },
     "metadata": {},
     "output_type": "display_data"
    }
   ],
   "source": [
    "if not is_dark:\n",
    "    fig, ax1 = plt.subplots(nrows=1, sharex=True)\n",
    "\n",
    "    # ax1.plot(scan.xgm.mean('dim_0'), label='pumped')\n",
    "    ax1.plot(xgm.trainId, xgm, 'o', c='C0', ms=1)\n",
    "    ax1.set_ylabel('xgm')\n",
    "    ax1.set_xlabel('trainId')\n",
    "\n",
    "    ax1.set_title(f'run: {run_nr}')\n",
    "\n",
    "    tstamp = strftime('%y%m%d_%H%M')\n",
    "    fig.savefig(f'images/run{run_nr}_xgm_{tstamp}.png', dpi=200)"
   ]
  },
  {
   "cell_type": "markdown",
   "metadata": {},
   "source": [
    "## define a function that calculates the average for one module"
   ]
  },
  {
   "cell_type": "code",
   "execution_count": 7,
   "metadata": {},
   "outputs": [],
   "source": [
    "def process_intra_train_dask(proposal, run_nr, module, fpt):\n",
    "    \n",
    "    sourcename = f'SCS_DET_DSSC1M-1/DET/{module}CH0:xtdf'\n",
    "    collection = kd.open_run(proposal, run_nr, include=f'*DSSC{module:02d}*')\n",
    "\n",
    "    arr = collection.get_dask_array(sourcename, 'image.data')\n",
    "    arr_trains = arr.reshape(-1, fpt, 128, 512)\n",
    "    \n",
    "    return arr_trains.mean(axis=0, dtype=np.float32)"
   ]
  },
  {
   "cell_type": "markdown",
   "metadata": {},
   "source": [
    "## start the cluster"
   ]
  },
  {
   "cell_type": "code",
   "execution_count": 8,
   "metadata": {},
   "outputs": [],
   "source": [
    "cluster = SLURMCluster(\n",
    "    queue='exfel',\n",
    "    processes=8,\n",
    "    cores=8, memory='256GB'\n",
    ")"
   ]
  },
  {
   "cell_type": "markdown",
   "metadata": {},
   "source": [
    "Click the link below to check out the cluster state."
   ]
  },
  {
   "cell_type": "code",
   "execution_count": 9,
   "metadata": {},
   "outputs": [
    {
     "data": {
      "application/vnd.jupyter.widget-view+json": {
       "model_id": "1d4d897abb2e4717a6e98472510e01d2",
       "version_major": 2,
       "version_minor": 0
      },
      "text/plain": [
       "VBox(children=(HTML(value='<h2>SLURMCluster</h2>'), HBox(children=(HTML(value='\\n<div>\\n  <style scoped>\\n    …"
      ]
     },
     "metadata": {},
     "output_type": "display_data"
    }
   ],
   "source": [
    "cluster"
   ]
  },
  {
   "cell_type": "code",
   "execution_count": 10,
   "metadata": {},
   "outputs": [],
   "source": [
    "cluster.scale(128)"
   ]
  },
  {
   "cell_type": "markdown",
   "metadata": {},
   "source": [
    "## set up dask to use the cluster"
   ]
  },
  {
   "cell_type": "code",
   "execution_count": 11,
   "metadata": {},
   "outputs": [
    {
     "name": "stdout",
     "output_type": "stream",
     "text": [
      "Created dask client: <Client: 'tcp://131.169.182.82:41407' processes=128 threads=128, memory=4.10 TB>\n"
     ]
    }
   ],
   "source": [
    "client = Client(cluster)\n",
    "print(\"Created dask client:\", client)"
   ]
  },
  {
   "cell_type": "markdown",
   "metadata": {},
   "source": [
    "## set up the computation"
   ]
  },
  {
   "cell_type": "code",
   "execution_count": 12,
   "metadata": {},
   "outputs": [
    {
     "name": "stdout",
     "output_type": "stream",
     "text": [
      "CPU times: user 3.18 s, sys: 1.27 s, total: 4.45 s\n",
      "Wall time: 42.4 s\n"
     ]
    },
    {
     "data": {
      "text/plain": [
       "[dask.array<mean_agg-aggregate, shape=(75, 128, 512), dtype=float32, chunksize=(75, 128, 512), chunktype=numpy.ndarray>,\n",
       " dask.array<mean_agg-aggregate, shape=(75, 128, 512), dtype=float32, chunksize=(75, 128, 512), chunktype=numpy.ndarray>,\n",
       " dask.array<mean_agg-aggregate, shape=(75, 128, 512), dtype=float32, chunksize=(75, 128, 512), chunktype=numpy.ndarray>,\n",
       " dask.array<mean_agg-aggregate, shape=(75, 128, 512), dtype=float32, chunksize=(75, 128, 512), chunktype=numpy.ndarray>,\n",
       " dask.array<mean_agg-aggregate, shape=(75, 128, 512), dtype=float32, chunksize=(75, 128, 512), chunktype=numpy.ndarray>,\n",
       " dask.array<mean_agg-aggregate, shape=(75, 128, 512), dtype=float32, chunksize=(75, 128, 512), chunktype=numpy.ndarray>,\n",
       " dask.array<mean_agg-aggregate, shape=(75, 128, 512), dtype=float32, chunksize=(75, 128, 512), chunktype=numpy.ndarray>,\n",
       " dask.array<mean_agg-aggregate, shape=(75, 128, 512), dtype=float32, chunksize=(75, 128, 512), chunktype=numpy.ndarray>,\n",
       " dask.array<mean_agg-aggregate, shape=(75, 128, 512), dtype=float32, chunksize=(75, 128, 512), chunktype=numpy.ndarray>,\n",
       " dask.array<mean_agg-aggregate, shape=(75, 128, 512), dtype=float32, chunksize=(75, 128, 512), chunktype=numpy.ndarray>,\n",
       " dask.array<mean_agg-aggregate, shape=(75, 128, 512), dtype=float32, chunksize=(75, 128, 512), chunktype=numpy.ndarray>,\n",
       " dask.array<mean_agg-aggregate, shape=(75, 128, 512), dtype=float32, chunksize=(75, 128, 512), chunktype=numpy.ndarray>,\n",
       " dask.array<mean_agg-aggregate, shape=(75, 128, 512), dtype=float32, chunksize=(75, 128, 512), chunktype=numpy.ndarray>,\n",
       " dask.array<mean_agg-aggregate, shape=(75, 128, 512), dtype=float32, chunksize=(75, 128, 512), chunktype=numpy.ndarray>,\n",
       " dask.array<mean_agg-aggregate, shape=(75, 128, 512), dtype=float32, chunksize=(75, 128, 512), chunktype=numpy.ndarray>,\n",
       " dask.array<mean_agg-aggregate, shape=(75, 128, 512), dtype=float32, chunksize=(75, 128, 512), chunktype=numpy.ndarray>]"
      ]
     },
     "execution_count": 12,
     "metadata": {},
     "output_type": "execute_result"
    }
   ],
   "source": [
    "%%time\n",
    "\n",
    "fpt = dp.load_dssc_info(proposal, run_nr)['frames_per_train']\n",
    "mod_data = [\n",
    "    process_intra_train_dask(proposal, run_nr, m, fpt)\n",
    "    for m in range(16)\n",
    "]\n",
    "\n",
    "mod_data"
   ]
  },
  {
   "cell_type": "markdown",
   "metadata": {},
   "source": [
    "## stack the results"
   ]
  },
  {
   "cell_type": "code",
   "execution_count": 13,
   "metadata": {
    "scrolled": false
   },
   "outputs": [
    {
     "data": {
      "text/html": [
       "<table>\n",
       "<tr>\n",
       "<td>\n",
       "<table>\n",
       "  <thead>\n",
       "    <tr><td> </td><th> Array </th><th> Chunk </th></tr>\n",
       "  </thead>\n",
       "  <tbody>\n",
       "    <tr><th> Bytes </th><td> 314.57 MB </td> <td> 19.66 MB </td></tr>\n",
       "    <tr><th> Shape </th><td> (16, 75, 128, 512) </td> <td> (1, 75, 128, 512) </td></tr>\n",
       "    <tr><th> Count </th><td> 1024 Tasks </td><td> 16 Chunks </td></tr>\n",
       "    <tr><th> Type </th><td> float32 </td><td> numpy.ndarray </td></tr>\n",
       "  </tbody>\n",
       "</table>\n",
       "</td>\n",
       "<td>\n",
       "<svg width=\"395\" height=\"116\" style=\"stroke:rgb(0,0,0);stroke-width:1\" >\n",
       "\n",
       "  <!-- Horizontal lines -->\n",
       "  <line x1=\"0\" y1=\"0\" x2=\"31\" y2=\"0\" style=\"stroke-width:2\" />\n",
       "  <line x1=\"0\" y1=\"25\" x2=\"31\" y2=\"25\" style=\"stroke-width:2\" />\n",
       "\n",
       "  <!-- Vertical lines -->\n",
       "  <line x1=\"0\" y1=\"0\" x2=\"0\" y2=\"25\" style=\"stroke-width:2\" />\n",
       "  <line x1=\"1\" y1=\"0\" x2=\"1\" y2=\"25\" />\n",
       "  <line x1=\"3\" y1=\"0\" x2=\"3\" y2=\"25\" />\n",
       "  <line x1=\"5\" y1=\"0\" x2=\"5\" y2=\"25\" />\n",
       "  <line x1=\"7\" y1=\"0\" x2=\"7\" y2=\"25\" />\n",
       "  <line x1=\"9\" y1=\"0\" x2=\"9\" y2=\"25\" />\n",
       "  <line x1=\"11\" y1=\"0\" x2=\"11\" y2=\"25\" />\n",
       "  <line x1=\"13\" y1=\"0\" x2=\"13\" y2=\"25\" />\n",
       "  <line x1=\"15\" y1=\"0\" x2=\"15\" y2=\"25\" />\n",
       "  <line x1=\"17\" y1=\"0\" x2=\"17\" y2=\"25\" />\n",
       "  <line x1=\"19\" y1=\"0\" x2=\"19\" y2=\"25\" />\n",
       "  <line x1=\"21\" y1=\"0\" x2=\"21\" y2=\"25\" />\n",
       "  <line x1=\"23\" y1=\"0\" x2=\"23\" y2=\"25\" />\n",
       "  <line x1=\"25\" y1=\"0\" x2=\"25\" y2=\"25\" />\n",
       "  <line x1=\"27\" y1=\"0\" x2=\"27\" y2=\"25\" />\n",
       "  <line x1=\"29\" y1=\"0\" x2=\"29\" y2=\"25\" />\n",
       "  <line x1=\"31\" y1=\"0\" x2=\"31\" y2=\"25\" style=\"stroke-width:2\" />\n",
       "\n",
       "  <!-- Colored Rectangle -->\n",
       "  <polygon points=\"0.000000,0.000000 31.635229,0.000000 31.635229,25.412617 0.000000,25.412617\" style=\"fill:#ECB172A0;stroke-width:0\"/>\n",
       "\n",
       "  <!-- Text -->\n",
       "  <text x=\"15.817615\" y=\"45.412617\" font-size=\"1.0rem\" font-weight=\"100\" text-anchor=\"middle\" >16</text>\n",
       "  <text x=\"51.635229\" y=\"12.706308\" font-size=\"1.0rem\" font-weight=\"100\" text-anchor=\"middle\" transform=\"rotate(0,51.635229,12.706308)\">1</text>\n",
       "\n",
       "\n",
       "  <!-- Horizontal lines -->\n",
       "  <line x1=\"101\" y1=\"0\" x2=\"124\" y2=\"23\" style=\"stroke-width:2\" />\n",
       "  <line x1=\"101\" y1=\"42\" x2=\"124\" y2=\"66\" style=\"stroke-width:2\" />\n",
       "\n",
       "  <!-- Vertical lines -->\n",
       "  <line x1=\"101\" y1=\"0\" x2=\"101\" y2=\"42\" style=\"stroke-width:2\" />\n",
       "  <line x1=\"124\" y1=\"23\" x2=\"124\" y2=\"66\" style=\"stroke-width:2\" />\n",
       "\n",
       "  <!-- Colored Rectangle -->\n",
       "  <polygon points=\"101.000000,0.000000 124.877238,23.877238 124.877238,66.776033 101.000000,42.898796\" style=\"fill:#ECB172A0;stroke-width:0\"/>\n",
       "\n",
       "  <!-- Horizontal lines -->\n",
       "  <line x1=\"101\" y1=\"0\" x2=\"221\" y2=\"0\" style=\"stroke-width:2\" />\n",
       "  <line x1=\"124\" y1=\"23\" x2=\"244\" y2=\"23\" style=\"stroke-width:2\" />\n",
       "\n",
       "  <!-- Vertical lines -->\n",
       "  <line x1=\"101\" y1=\"0\" x2=\"124\" y2=\"23\" style=\"stroke-width:2\" />\n",
       "  <line x1=\"221\" y1=\"0\" x2=\"244\" y2=\"23\" style=\"stroke-width:2\" />\n",
       "\n",
       "  <!-- Colored Rectangle -->\n",
       "  <polygon points=\"101.000000,0.000000 221.000000,0.000000 244.877238,23.877238 124.877238,23.877238\" style=\"fill:#ECB172A0;stroke-width:0\"/>\n",
       "\n",
       "  <!-- Horizontal lines -->\n",
       "  <line x1=\"124\" y1=\"23\" x2=\"244\" y2=\"23\" style=\"stroke-width:2\" />\n",
       "  <line x1=\"124\" y1=\"66\" x2=\"244\" y2=\"66\" style=\"stroke-width:2\" />\n",
       "\n",
       "  <!-- Vertical lines -->\n",
       "  <line x1=\"124\" y1=\"23\" x2=\"124\" y2=\"66\" style=\"stroke-width:2\" />\n",
       "  <line x1=\"244\" y1=\"23\" x2=\"244\" y2=\"66\" style=\"stroke-width:2\" />\n",
       "\n",
       "  <!-- Colored Rectangle -->\n",
       "  <polygon points=\"124.877238,23.877238 244.877238,23.877238 244.877238,66.776033 124.877238,66.776033\" style=\"fill:#ECB172A0;stroke-width:0\"/>\n",
       "\n",
       "  <!-- Text -->\n",
       "  <text x=\"184.877238\" y=\"86.776033\" font-size=\"1.0rem\" font-weight=\"100\" text-anchor=\"middle\" >512</text>\n",
       "  <text x=\"264.877238\" y=\"45.326636\" font-size=\"1.0rem\" font-weight=\"100\" text-anchor=\"middle\" transform=\"rotate(-90,264.877238,45.326636)\">128</text>\n",
       "  <text x=\"102.938619\" y=\"74.837414\" font-size=\"1.0rem\" font-weight=\"100\" text-anchor=\"middle\" transform=\"rotate(45,102.938619,74.837414)\">75</text>\n",
       "</svg>\n",
       "</td>\n",
       "</tr>\n",
       "</table>"
      ],
      "text/plain": [
       "dask.array<stack, shape=(16, 75, 128, 512), dtype=float32, chunksize=(1, 75, 128, 512), chunktype=numpy.ndarray>"
      ]
     },
     "execution_count": 13,
     "metadata": {},
     "output_type": "execute_result"
    }
   ],
   "source": [
    "all_average = da.stack(mod_data)\n",
    "all_average"
   ]
  },
  {
   "cell_type": "markdown",
   "metadata": {},
   "source": [
    "## start the computation"
   ]
  },
  {
   "cell_type": "code",
   "execution_count": 14,
   "metadata": {},
   "outputs": [
    {
     "name": "stdout",
     "output_type": "stream",
     "text": [
      "CPU times: user 17.2 s, sys: 2.83 s, total: 20 s\n",
      "Wall time: 2min 16s\n"
     ]
    }
   ],
   "source": [
    "%%time\n",
    "module_data = all_average.compute()"
   ]
  },
  {
   "cell_type": "markdown",
   "metadata": {},
   "source": [
    "## profiling\n",
    "\n",
    "\n",
    "At first I tried to use the performance_report function, but it seems to not exist.\n",
    "So instead I just gathered the data via the profile function."
   ]
  },
  {
   "cell_type": "code",
   "execution_count": 15,
   "metadata": {},
   "outputs": [
    {
     "ename": "ImportError",
     "evalue": "cannot import name 'performance_report'",
     "output_type": "error",
     "traceback": [
      "\u001b[0;31m---------------------------------------------------------------------------\u001b[0m",
      "\u001b[0;31mImportError\u001b[0m                               Traceback (most recent call last)",
      "\u001b[0;32m<ipython-input-15-96b94fad9217>\u001b[0m in \u001b[0;36m<module>\u001b[0;34m\u001b[0m\n\u001b[1;32m      1\u001b[0m \u001b[0;31m#apparently the performance_report attribute does not exist\u001b[0m\u001b[0;34m\u001b[0m\u001b[0;34m\u001b[0m\u001b[0;34m\u001b[0m\u001b[0m\n\u001b[1;32m      2\u001b[0m \u001b[0;34m\u001b[0m\u001b[0m\n\u001b[0;32m----> 3\u001b[0;31m \u001b[0;32mfrom\u001b[0m \u001b[0mdask\u001b[0m\u001b[0;34m.\u001b[0m\u001b[0mdistributed\u001b[0m \u001b[0;32mimport\u001b[0m \u001b[0mperformance_report\u001b[0m\u001b[0;34m\u001b[0m\u001b[0;34m\u001b[0m\u001b[0m\n\u001b[0m\u001b[1;32m      4\u001b[0m \u001b[0;34m\u001b[0m\u001b[0m\n\u001b[1;32m      5\u001b[0m \u001b[0;32mwith\u001b[0m \u001b[0mperformance_report\u001b[0m\u001b[0;34m(\u001b[0m\u001b[0mfilename\u001b[0m\u001b[0;34m=\u001b[0m\u001b[0;34m\"dask-report.html\"\u001b[0m\u001b[0;34m)\u001b[0m\u001b[0;34m:\u001b[0m\u001b[0;34m\u001b[0m\u001b[0;34m\u001b[0m\u001b[0m\n",
      "\u001b[0;31mImportError\u001b[0m: cannot import name 'performance_report'"
     ]
    }
   ],
   "source": [
    "#apparently the performance_report attribute does not exist\n",
    "\n",
    "from dask.distributed import performance_report\n",
    "\n",
    "with performance_report(filename=\"dask-report.html\"):\n",
    "    module_data = all_average.compute()"
   ]
  },
  {
   "cell_type": "code",
   "execution_count": 16,
   "metadata": {},
   "outputs": [
    {
     "data": {
      "text/plain": [
       "({'description': {'filename': '', 'name': '', 'line_number': 0, 'line': ''},\n",
       "  'children': {'__call__;/software/anaconda3/5.2/lib/python3.6/site-packages/dask/optimization.py;1056': {'description': {'filename': '/software/anaconda3/5.2/lib/python3.6/site-packages/dask/optimization.py',\n",
       "     'name': '__call__',\n",
       "     'line_number': 1059,\n",
       "     'line': 'return core.get(self.dsk, self.outkey, dict(zip(self.inkeys, args)))\\n'},\n",
       "    'children': {'get;/software/anaconda3/5.2/lib/python3.6/site-packages/dask/core.py;128': {'description': {'filename': '/software/anaconda3/5.2/lib/python3.6/site-packages/dask/core.py',\n",
       "       'name': 'get',\n",
       "       'line_number': 149,\n",
       "       'line': 'result = _execute_task(task, cache)\\n'},\n",
       "      'children': {'_execute_task;/software/anaconda3/5.2/lib/python3.6/site-packages/dask/core.py;86': {'description': {'filename': '/software/anaconda3/5.2/lib/python3.6/site-packages/dask/core.py',\n",
       "         'name': '_execute_task',\n",
       "         'line_number': 119,\n",
       "         'line': 'return func(*args2)\\n'},\n",
       "        'children': {'apply;/software/anaconda3/5.2/lib/python3.6/site-packages/dask/compatibility.py;105': {'description': {'filename': '/software/anaconda3/5.2/lib/python3.6/site-packages/dask/compatibility.py',\n",
       "           'name': 'apply',\n",
       "           'line_number': 107,\n",
       "           'line': 'return func(*args, **kwargs)\\n'},\n",
       "          'children': {'mean_chunk;/software/anaconda3/5.2/lib/python3.6/site-packages/dask/array/reductions.py;535': {'description': {'filename': '/software/anaconda3/5.2/lib/python3.6/site-packages/dask/array/reductions.py',\n",
       "             'name': 'mean_chunk',\n",
       "             'line_number': 540,\n",
       "             'line': 'n = numel(x, dtype=dtype, **kwargs)\\n'},\n",
       "            'children': {'numel;/software/anaconda3/5.2/lib/python3.6/site-packages/dask/array/reductions.py;498': {'description': {'filename': '/software/anaconda3/5.2/lib/python3.6/site-packages/dask/array/reductions.py',\n",
       "               'name': 'numel',\n",
       "               'line_number': 527,\n",
       "               'line': 'return full_like_safe(x, prod, shape=new_shape, dtype=dtype)\\n'},\n",
       "              'children': {'full_like_safe;/software/anaconda3/5.2/lib/python3.6/site-packages/dask/array/utils.py;307': {'description': {'filename': '/software/anaconda3/5.2/lib/python3.6/site-packages/dask/array/utils.py',\n",
       "                 'name': 'full_like_safe',\n",
       "                 'line_number': 315,\n",
       "                 'line': 'return np.full_like(a, fill_value, shape=shape, **kwargs)\\n'},\n",
       "                'children': {'full_like;<__array_function__ internals>;2': {'description': {'filename': '<__array_function__ internals>',\n",
       "                   'name': 'full_like',\n",
       "                   'line_number': 6,\n",
       "                   'line': ''},\n",
       "                  'children': {'full_like;/software/anaconda3/5.2/lib/python3.6/site-packages/numpy/core/numeric.py;341': {'description': {'filename': '/software/anaconda3/5.2/lib/python3.6/site-packages/numpy/core/numeric.py',\n",
       "                     'name': 'full_like',\n",
       "                     'line_number': 401,\n",
       "                     'line': \"multiarray.copyto(res, fill_value, casting='unsafe')\\n\"},\n",
       "                    'children': {'copyto;<__array_function__ internals>;2': {'description': {'filename': '<__array_function__ internals>',\n",
       "                       'name': 'copyto',\n",
       "                       'line_number': 6,\n",
       "                       'line': ''},\n",
       "                      'children': {},\n",
       "                      'count': 0,\n",
       "                      'identifier': 'copyto;<__array_function__ internals>;2'}},\n",
       "                    'count': 211,\n",
       "                    'identifier': 'full_like;/software/anaconda3/5.2/lib/python3.6/site-packages/numpy/core/numeric.py;341'}},\n",
       "                  'count': 211,\n",
       "                  'identifier': 'full_like;<__array_function__ internals>;2'}},\n",
       "                'count': 211,\n",
       "                'identifier': 'full_like_safe;/software/anaconda3/5.2/lib/python3.6/site-packages/dask/array/utils.py;307'}},\n",
       "              'count': 211,\n",
       "              'identifier': 'numel;/software/anaconda3/5.2/lib/python3.6/site-packages/dask/array/reductions.py;498'},\n",
       "             'sum;<__array_function__ internals>;2': {'description': {'filename': '<__array_function__ internals>',\n",
       "               'name': 'sum',\n",
       "               'line_number': 6,\n",
       "               'line': ''},\n",
       "              'children': {'sum;/software/anaconda3/5.2/lib/python3.6/site-packages/numpy/core/fromnumeric.py;2045': {'description': {'filename': '/software/anaconda3/5.2/lib/python3.6/site-packages/numpy/core/fromnumeric.py',\n",
       "                 'name': 'sum',\n",
       "                 'line_number': 2182,\n",
       "                 'line': 'initial=initial, where=where)\\n'},\n",
       "                'children': {'_wrapreduction;/software/anaconda3/5.2/lib/python3.6/site-packages/numpy/core/fromnumeric.py;73': {'description': {'filename': '/software/anaconda3/5.2/lib/python3.6/site-packages/numpy/core/fromnumeric.py',\n",
       "                   'name': '_wrapreduction',\n",
       "                   'line_number': 90,\n",
       "                   'line': 'return ufunc.reduce(obj, axis, dtype, out, **passkwargs)\\n'},\n",
       "                  'children': {},\n",
       "                  'count': 0,\n",
       "                  'identifier': '_wrapreduction;/software/anaconda3/5.2/lib/python3.6/site-packages/numpy/core/fromnumeric.py;73'}},\n",
       "                'count': 16877,\n",
       "                'identifier': 'sum;/software/anaconda3/5.2/lib/python3.6/site-packages/numpy/core/fromnumeric.py;2045'}},\n",
       "              'count': 16877,\n",
       "              'identifier': 'sum;<__array_function__ internals>;2'}},\n",
       "            'count': 17088,\n",
       "            'identifier': 'mean_chunk;/software/anaconda3/5.2/lib/python3.6/site-packages/dask/array/reductions.py;535'}},\n",
       "          'count': 17088,\n",
       "          'identifier': 'apply;/software/anaconda3/5.2/lib/python3.6/site-packages/dask/compatibility.py;105'}},\n",
       "        'count': 17088,\n",
       "        'identifier': '_execute_task;/software/anaconda3/5.2/lib/python3.6/site-packages/dask/core.py;86'}},\n",
       "      'count': 17088,\n",
       "      'identifier': 'get;/software/anaconda3/5.2/lib/python3.6/site-packages/dask/core.py;128'}},\n",
       "    'count': 17088,\n",
       "    'identifier': '__call__;/software/anaconda3/5.2/lib/python3.6/site-packages/dask/optimization.py;1056'},\n",
       "   'mean_combine;/software/anaconda3/5.2/lib/python3.6/site-packages/dask/array/reductions.py;547': {'description': {'filename': '/software/anaconda3/5.2/lib/python3.6/site-packages/dask/array/reductions.py',\n",
       "     'name': 'mean_combine',\n",
       "     'line_number': 560,\n",
       "     'line': 'n = _concatenate2(ns, axes=axis).sum(axis=axis, **kwargs)\\n'},\n",
       "    'children': {'_concatenate2;/software/anaconda3/5.2/lib/python3.6/site-packages/dask/array/core.py;261': {'description': {'filename': '/software/anaconda3/5.2/lib/python3.6/site-packages/dask/array/core.py',\n",
       "       'name': '_concatenate2',\n",
       "       'line_number': 311,\n",
       "       'line': 'return concatenate(arrays, axis=axes[0])\\n'},\n",
       "      'children': {'concatenate;<__array_function__ internals>;2': {'description': {'filename': '<__array_function__ internals>',\n",
       "         'name': 'concatenate',\n",
       "         'line_number': 6,\n",
       "         'line': ''},\n",
       "        'children': {},\n",
       "        'count': 0,\n",
       "        'identifier': 'concatenate;<__array_function__ internals>;2'}},\n",
       "      'count': 493,\n",
       "      'identifier': '_concatenate2;/software/anaconda3/5.2/lib/python3.6/site-packages/dask/array/core.py;261'},\n",
       "     '_sum;/software/anaconda3/5.2/lib/python3.6/site-packages/numpy/core/_methods.py;36': {'description': {'filename': '/software/anaconda3/5.2/lib/python3.6/site-packages/numpy/core/_methods.py',\n",
       "       'name': '_sum',\n",
       "       'line_number': 38,\n",
       "       'line': 'return umr_sum(a, axis, dtype, out, keepdims, initial, where)\\n'},\n",
       "      'children': {},\n",
       "      'count': 0,\n",
       "      'identifier': '_sum;/software/anaconda3/5.2/lib/python3.6/site-packages/numpy/core/_methods.py;36'}},\n",
       "    'count': 749,\n",
       "    'identifier': 'mean_combine;/software/anaconda3/5.2/lib/python3.6/site-packages/dask/array/reductions.py;547'},\n",
       "   'getter;/software/anaconda3/5.2/lib/python3.6/site-packages/dask/array/core.py;93': {'description': {'filename': '/software/anaconda3/5.2/lib/python3.6/site-packages/dask/array/core.py',\n",
       "     'name': 'getter',\n",
       "     'line_number': 106,\n",
       "     'line': 'c = a[b]\\n'},\n",
       "    'children': {'__getitem__;/software/anaconda3/5.2/lib/python3.6/site-packages/h5py/_hl/dataset.py;476': {'description': {'filename': '/software/anaconda3/5.2/lib/python3.6/site-packages/h5py/_hl/dataset.py',\n",
       "       'name': '__getitem__',\n",
       "       'line_number': 573,\n",
       "       'line': 'self.id.read(mspace, fspace, arr, mtype, dxpl=self._dxpl)\\n'},\n",
       "      'children': {},\n",
       "      'count': 0,\n",
       "      'identifier': '__getitem__;/software/anaconda3/5.2/lib/python3.6/site-packages/h5py/_hl/dataset.py;476'}},\n",
       "    'count': 42,\n",
       "    'identifier': 'getter;/software/anaconda3/5.2/lib/python3.6/site-packages/dask/array/core.py;93'},\n",
       "   'mean_agg;/software/anaconda3/5.2/lib/python3.6/site-packages/dask/array/reductions.py;571': {'description': {'filename': '/software/anaconda3/5.2/lib/python3.6/site-packages/dask/array/reductions.py',\n",
       "     'name': 'mean_agg',\n",
       "     'line_number': 573,\n",
       "     'line': 'n = _concatenate2(ns, axes=axis)\\n'},\n",
       "    'children': {'_concatenate2;/software/anaconda3/5.2/lib/python3.6/site-packages/dask/array/core.py;261': {'description': {'filename': '/software/anaconda3/5.2/lib/python3.6/site-packages/dask/array/core.py',\n",
       "       'name': '_concatenate2',\n",
       "       'line_number': 311,\n",
       "       'line': 'return concatenate(arrays, axis=axes[0])\\n'},\n",
       "      'children': {'concatenate;<__array_function__ internals>;2': {'description': {'filename': '<__array_function__ internals>',\n",
       "         'name': 'concatenate',\n",
       "         'line_number': 6,\n",
       "         'line': ''},\n",
       "        'children': {},\n",
       "        'count': 0,\n",
       "        'identifier': 'concatenate;<__array_function__ internals>;2'}},\n",
       "      'count': 148,\n",
       "      'identifier': '_concatenate2;/software/anaconda3/5.2/lib/python3.6/site-packages/dask/array/core.py;261'},\n",
       "     'sum;<__array_function__ internals>;2': {'description': {'filename': '<__array_function__ internals>',\n",
       "       'name': 'sum',\n",
       "       'line_number': 6,\n",
       "       'line': ''},\n",
       "      'children': {'sum;/software/anaconda3/5.2/lib/python3.6/site-packages/numpy/core/fromnumeric.py;2045': {'description': {'filename': '/software/anaconda3/5.2/lib/python3.6/site-packages/numpy/core/fromnumeric.py',\n",
       "         'name': 'sum',\n",
       "         'line_number': 2182,\n",
       "         'line': 'initial=initial, where=where)\\n'},\n",
       "        'children': {'_wrapreduction;/software/anaconda3/5.2/lib/python3.6/site-packages/numpy/core/fromnumeric.py;73': {'description': {'filename': '/software/anaconda3/5.2/lib/python3.6/site-packages/numpy/core/fromnumeric.py',\n",
       "           'name': '_wrapreduction',\n",
       "           'line_number': 90,\n",
       "           'line': 'return ufunc.reduce(obj, axis, dtype, out, **passkwargs)\\n'},\n",
       "          'children': {},\n",
       "          'count': 0,\n",
       "          'identifier': '_wrapreduction;/software/anaconda3/5.2/lib/python3.6/site-packages/numpy/core/fromnumeric.py;73'}},\n",
       "        'count': 38,\n",
       "        'identifier': 'sum;/software/anaconda3/5.2/lib/python3.6/site-packages/numpy/core/fromnumeric.py;2045'}},\n",
       "      'count': 38,\n",
       "      'identifier': 'sum;<__array_function__ internals>;2'},\n",
       "     '_sum;/software/anaconda3/5.2/lib/python3.6/site-packages/numpy/core/_methods.py;36': {'description': {'filename': '/software/anaconda3/5.2/lib/python3.6/site-packages/numpy/core/_methods.py',\n",
       "       'name': '_sum',\n",
       "       'line_number': 38,\n",
       "       'line': 'return umr_sum(a, axis, dtype, out, keepdims, initial, where)\\n'},\n",
       "      'children': {},\n",
       "      'count': 0,\n",
       "      'identifier': '_sum;/software/anaconda3/5.2/lib/python3.6/site-packages/numpy/core/_methods.py;36'},\n",
       "     'divide;/software/anaconda3/5.2/lib/python3.6/site-packages/dask/array/reductions.py;37': {'description': {'filename': '/software/anaconda3/5.2/lib/python3.6/site-packages/dask/array/reductions.py',\n",
       "       'name': 'divide',\n",
       "       'line_number': 40,\n",
       "       'line': 'return f(a, b, dtype=dtype)\\n'},\n",
       "      'children': {'divide;/software/anaconda3/5.2/lib/python3.6/site-packages/dask/array/numpy_compat.py;37': {'description': {'filename': '/software/anaconda3/5.2/lib/python3.6/site-packages/dask/array/numpy_compat.py',\n",
       "         'name': 'divide',\n",
       "         'line_number': 42,\n",
       "         'line': 'x = np.divide(x1, x2, out)\\n'},\n",
       "        'children': {},\n",
       "        'count': 0,\n",
       "        'identifier': 'divide;/software/anaconda3/5.2/lib/python3.6/site-packages/dask/array/numpy_compat.py;37'}},\n",
       "      'count': 33,\n",
       "      'identifier': 'divide;/software/anaconda3/5.2/lib/python3.6/site-packages/dask/array/reductions.py;37'}},\n",
       "    'count': 257,\n",
       "    'identifier': 'mean_agg;/software/anaconda3/5.2/lib/python3.6/site-packages/dask/array/reductions.py;571'}},\n",
       "  'count': 18136,\n",
       "  'identifier': 'root'},\n",
       " Figure(id='1002', ...))"
      ]
     },
     "execution_count": 16,
     "metadata": {},
     "output_type": "execute_result"
    }
   ],
   "source": [
    "client.profile(filename=\"profile.html\")"
   ]
  },
  {
   "cell_type": "markdown",
   "metadata": {},
   "source": [
    "## further processing of the xgm array\n",
    "(previously: merge processed data with scan variable and normalization data)"
   ]
  },
  {
   "cell_type": "code",
   "execution_count": 17,
   "metadata": {},
   "outputs": [],
   "source": [
    "if not is_dark:\n",
    "    xgm['pulse'] = np.arange(fpt, dtype=int)\n",
    "    xgm = xgm.mean('trainId')\n",
    "    xgm.name = 'xgm'"
   ]
  },
  {
   "cell_type": "markdown",
   "metadata": {},
   "source": [
    "## turning the resulting np array into an xarray\n",
    "\n",
    "For consistency's sake"
   ]
  },
  {
   "cell_type": "code",
   "execution_count": 18,
   "metadata": {},
   "outputs": [],
   "source": [
    "module_data = xr.DataArray(\n",
    "    module_data,\n",
    "    dims=('module', 'pulse', 'x', 'y'),\n",
    "    coords={\n",
    "        'module': np.arange(16),\n",
    "        'pulse': np.arange(fpt),\n",
    "            },\n",
    "    name='module_data'\n",
    "\n",
    ")"
   ]
  },
  {
   "cell_type": "markdown",
   "metadata": {},
   "source": [
    "## save to hdf5"
   ]
  },
  {
   "cell_type": "code",
   "execution_count": 19,
   "metadata": {},
   "outputs": [
    {
     "name": "stdout",
     "output_type": "stream",
     "text": [
      "saving:  ./processed_runs/run89_by-pulse.h5\n"
     ]
    }
   ],
   "source": [
    "import h5py\n",
    "\n",
    "overwrite = True\n",
    "\n",
    "save_folder = './processed_runs/'\n",
    "prefix = ''\n",
    "\n",
    "if is_dark:\n",
    "    fname = f'{prefix}run{run_nr}.h5'  # no scan\n",
    "else:\n",
    "    fname = f'{prefix}run{run_nr}_by-pulse.h5'  # run with delay scan (change for other scan types!)\n",
    "\n",
    "\n",
    "save_path = os.path.join(save_folder, fname)\n",
    "file_exists = os.path.isfile(save_path)\n",
    "\n",
    "if (not file_exists) or (file_exists and overwrite):\n",
    "    if file_exists:\n",
    "        os.remove(save_path)\n",
    "    h5f = h5py.File(save_path, 'w')\n",
    "    h5f.create_dataset('module_data', data=module_data)\n",
    "    h5f.create_dataset('xgm', data=xgm)\n",
    "    h5f.close()\n",
    "    print('saving: ', save_path)\n",
    "else:\n",
    "    print('file', save_path, 'exists and overwrite is False')"
   ]
  },
  {
   "cell_type": "markdown",
   "metadata": {},
   "source": [
    "## shutting down the cluster"
   ]
  },
  {
   "cell_type": "code",
   "execution_count": 20,
   "metadata": {},
   "outputs": [],
   "source": [
    "client.close()\n",
    "cluster.close()"
   ]
  }
 ],
 "metadata": {
  "kernelspec": {
   "display_name": "Python 3",
   "language": "python",
   "name": "python3"
  },
  "language_info": {
   "codemirror_mode": {
    "name": "ipython",
    "version": 3
   },
   "file_extension": ".py",
   "mimetype": "text/x-python",
   "name": "python",
   "nbconvert_exporter": "python",
   "pygments_lexer": "ipython3",
   "version": "3.6.7"
  },
  "toc-autonumbering": false
 },
 "nbformat": 4,
 "nbformat_minor": 4
}
