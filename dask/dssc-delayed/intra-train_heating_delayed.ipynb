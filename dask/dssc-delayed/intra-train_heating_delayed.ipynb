{
 "cells": [
  {
   "cell_type": "markdown",
   "metadata": {},
   "source": [
    "# Example processing: Intra-train heating\n",
    "This uses a simplified version of the process_dssc_module function:\n",
    "\n",
    "* frames are not grouped (e.g., in 'pumped', 'unpumped' or 'dark' frames)\n",
    "* no selection of trains and/or pulses is done\n",
    "\n",
    "The purpose of this analysis is to check how robust the diffraction signal is with respect to the repeated heat and radiation load from high repetition-rate pump-probe runs. Thus, we average over all trains within the run, but keep all individual pulses."
   ]
  },
  {
   "cell_type": "code",
   "execution_count": 1,
   "metadata": {},
   "outputs": [
    {
     "data": {
      "text/plain": [
       "'0.7.0'"
      ]
     },
     "execution_count": 1,
     "metadata": {},
     "output_type": "execute_result"
    }
   ],
   "source": [
    "import karabo_data as kd\n",
    "import numpy as np\n",
    "import xarray as xr\n",
    "import matplotlib.pyplot as plt\n",
    "import multiprocessing\n",
    "from tqdm.auto import tqdm\n",
    "from time import strftime\n",
    "from matplotlib.colors import LogNorm, BoundaryNorm\n",
    "import os\n",
    "import dssc_process as dp\n",
    "\n",
    "from dask.distributed import Client\n",
    "from dask_jobqueue import SLURMCluster\n",
    "from dask import delayed, compute\n",
    "\n",
    "kd.__version__"
   ]
  },
  {
   "cell_type": "code",
   "execution_count": 2,
   "metadata": {},
   "outputs": [],
   "source": [
    "%matplotlib widget"
   ]
  },
  {
   "cell_type": "code",
   "execution_count": 3,
   "metadata": {},
   "outputs": [],
   "source": [
    "# make sure subfolders exist\n",
    "for f in ['tmp', 'images', 'processed_runs']:\n",
    "    if not os.path.isdir(f):\n",
    "        os.mkdir(f)"
   ]
  },
  {
   "cell_type": "markdown",
   "metadata": {},
   "source": [
    "## setup run information and index non-DSSC data"
   ]
  },
  {
   "cell_type": "code",
   "execution_count": 4,
   "metadata": {},
   "outputs": [
    {
     "name": "stdout",
     "output_type": "stream",
     "text": [
      "# of trains:    1691\n",
      "Duration:       0:02:49\n",
      "First train ID: 517552829\n",
      "Last train ID:  517554519\n",
      "\n",
      "0 detector modules ()\n",
      "\n",
      "3 instrument sources (excluding detectors):\n",
      "  - SA3_XTD10_XGM/XGM/DOOCS:output\n",
      "  - SCS_BLU_XGM/XGM/DOOCS:output\n",
      "  - SCS_UTC1_ADQ/ADC/1:network\n",
      "\n",
      "20 control sources:\n",
      "  - P_GATT\n",
      "  - SA3_XTD10_MONO/ENC/GRATING_AX\n",
      "  - SA3_XTD10_MONO/MDL/PHOTON_ENERGY\n",
      "  - SA3_XTD10_MONO/MOTOR/GRATINGS_X\n",
      "  - SA3_XTD10_MONO/MOTOR/GRATING_AX\n",
      "  - SA3_XTD10_MONO/MOTOR/HE_PM_X\n",
      "  - SA3_XTD10_MONO/MOTOR/LE_PM_X\n",
      "  - SA3_XTD10_VAC/DCTRL/AR_MODE_OK\n",
      "  - SA3_XTD10_VAC/DCTRL/D12_APERT_IN_OK\n",
      "  - SA3_XTD10_VAC/DCTRL/D6_APERT_IN_OK\n",
      "  - SA3_XTD10_VAC/DCTRL/N2_MODE_OK\n",
      "  - SA3_XTD10_VAC/GAUGE/G30470D_IN\n",
      "  - SA3_XTD10_VAC/GAUGE/G30480D_IN\n",
      "  - SA3_XTD10_VAC/GAUGE/G30490D_IN\n",
      "  - SA3_XTD10_VAC/GAUGE/G30510C\n",
      "  - SA3_XTD10_XGM/XGM/DOOCS\n",
      "  - SCS_BLU_XGM/XGM/DOOCS\n",
      "  - SCS_RR_UTC/MDL/BUNCH_DECODER\n",
      "  - SCS_RR_UTC/TSYS/TIMESERVER\n",
      "  - SCS_UTC1_ADQ/ADC/1\n",
      "\n",
      "CPU times: user 26.5 ms, sys: 29 ms, total: 55.5 ms\n",
      "Wall time: 267 ms\n"
     ]
    }
   ],
   "source": [
    "%%time\n",
    "\n",
    "# basic run information\n",
    "proposal = 2212\n",
    "run_nr = 89\n",
    "is_dark = False\n",
    "#Other files used during testing:\n",
    "#dirpath = '/gpfs/exfel/exp/XMPL/201750/p700000/raw/r0026' #GPFS\n",
    "#dirpath = '/gpfs/exfel/exp/SCS/201901/p002212/raw/r0125' #dCache\n",
    "\n",
    "# index non-DSSC data\n",
    "run = kd.open_run(proposal, run_nr, include='*DA*')\n",
    "run.info()"
   ]
  },
  {
   "cell_type": "markdown",
   "metadata": {},
   "source": [
    "## load XGM (but no filtering/ thresholding)"
   ]
  },
  {
   "cell_type": "code",
   "execution_count": 5,
   "metadata": {},
   "outputs": [
    {
     "name": "stdout",
     "output_type": "stream",
     "text": [
      "SASE3 bunches per train: 75\n"
     ]
    },
    {
     "data": {
      "text/plain": [
       "<xarray.DataArray (trainId: 1691, pulse: 75)>\n",
       "array([[ 2180.5166,  6488.1846,  5275.4434, ..., 10196.676 , 32754.41  ,\n",
       "         6789.0996],\n",
       "       [ 1624.2289,  4335.608 ,  3925.5168, ..., 13686.537 , 17298.703 ,\n",
       "        13098.537 ],\n",
       "       [ 3515.1462,  3991.5251,  3081.2363, ..., 20455.729 ,  5150.4116,\n",
       "        10864.515 ],\n",
       "       ...,\n",
       "       [ 5501.5635,  3364.2139,  3501.4333, ..., 31223.012 , 20917.727 ,\n",
       "         5331.0703],\n",
       "       [ 3316.4705,  2695.3838,  7522.035 , ..., 12040.346 ,  9120.154 ,\n",
       "        10832.564 ],\n",
       "       [ 3241.3948,  6771.3486,  6503.9697, ..., 14620.738 , 19954.115 ,\n",
       "         9423.8125]], dtype=float32)\n",
       "Coordinates:\n",
       "  * trainId  (trainId) uint64 517552829 517552830 ... 517554518 517554519\n",
       "Dimensions without coordinates: pulse"
      ]
     },
     "execution_count": 5,
     "metadata": {},
     "output_type": "execute_result"
    }
   ],
   "source": [
    "if not is_dark:\n",
    "    xgm = dp.load_xgm(run, print_info=True)\n",
    "    \n",
    "xgm"
   ]
  },
  {
   "cell_type": "markdown",
   "metadata": {},
   "source": [
    "## plot XGM"
   ]
  },
  {
   "cell_type": "code",
   "execution_count": 6,
   "metadata": {},
   "outputs": [
    {
     "data": {
      "application/vnd.jupyter.widget-view+json": {
       "model_id": "e7616024ff17495c832451216af20278",
       "version_major": 2,
       "version_minor": 0
      },
      "text/plain": [
       "FigureCanvasNbAgg()"
      ]
     },
     "metadata": {},
     "output_type": "display_data"
    }
   ],
   "source": [
    "if not is_dark:\n",
    "    fig, ax1 = plt.subplots(nrows=1, sharex=True)\n",
    "\n",
    "    # ax1.plot(scan.xgm.mean('dim_0'), label='pumped')\n",
    "    ax1.plot(xgm.trainId, xgm, 'o', c='C0', ms=1)\n",
    "    ax1.set_ylabel('xgm')\n",
    "    ax1.set_xlabel('trainId')\n",
    "\n",
    "    ax1.set_title(f'run: {run_nr}')\n",
    "\n",
    "    tstamp = strftime('%y%m%d_%H%M')\n",
    "    fig.savefig(f'images/run{run_nr}_xgm_{tstamp}.png', dpi=200)"
   ]
  },
  {
   "cell_type": "code",
   "execution_count": 7,
   "metadata": {},
   "outputs": [],
   "source": [
    "cluster = SLURMCluster(\n",
    "    queue='exfel',\n",
    "    processes=8,\n",
    "    cores=8, memory='256GB'\n",
    ")"
   ]
  },
  {
   "cell_type": "code",
   "execution_count": 8,
   "metadata": {},
   "outputs": [
    {
     "data": {
      "application/vnd.jupyter.widget-view+json": {
       "model_id": "2268869d43cd4c29bb23ba1969896a6f",
       "version_major": 2,
       "version_minor": 0
      },
      "text/plain": [
       "VBox(children=(HTML(value='<h2>SLURMCluster</h2>'), HBox(children=(HTML(value='\\n<div>\\n  <style scoped>\\n    …"
      ]
     },
     "metadata": {},
     "output_type": "display_data"
    }
   ],
   "source": [
    "cluster"
   ]
  },
  {
   "cell_type": "code",
   "execution_count": 9,
   "metadata": {},
   "outputs": [],
   "source": [
    "cluster.scale(128)"
   ]
  },
  {
   "cell_type": "code",
   "execution_count": 10,
   "metadata": {},
   "outputs": [
    {
     "name": "stdout",
     "output_type": "stream",
     "text": [
      "Created dask client: <Client: 'tcp://131.169.182.59:38465' processes=128 threads=128, memory=4.10 TB>\n"
     ]
    }
   ],
   "source": [
    "client = Client(cluster)\n",
    "print(\"Created dask client:\", client)"
   ]
  },
  {
   "cell_type": "markdown",
   "metadata": {},
   "source": [
    "## calculate chunksize\n",
    "This is a conservative estimate for the maximum number of trains to process simultaneously without using more than \"max_GB\" gigabytes of memory."
   ]
  },
  {
   "cell_type": "code",
   "execution_count": 11,
   "metadata": {},
   "outputs": [
    {
     "name": "stdout",
     "output_type": "stream",
     "text": [
      "processing 512 trains per chunk\n"
     ]
    }
   ],
   "source": [
    "max_GB = 300\n",
    "fpt = dp.load_dssc_info(proposal, run_nr)['frames_per_train']\n",
    "\n",
    "# max_GB / (8byte * 16modules * 128px * 512px * N_pulses)\n",
    "chunksize = int(max_GB * 128 // fpt)\n",
    "chunksize = min(512, chunksize)  # more than 512 trains doesn't seem to give any performance benefit\n",
    "print('processing', chunksize, 'trains per chunk')"
   ]
  },
  {
   "cell_type": "markdown",
   "metadata": {},
   "source": [
    "## create joblist for multiprocessing"
   ]
  },
  {
   "cell_type": "code",
   "execution_count": 12,
   "metadata": {},
   "outputs": [],
   "source": [
    "jobs = []\n",
    "for m in range(16):\n",
    "    jobs.append(dict(\n",
    "        proposal=proposal,\n",
    "        run_nr=run_nr,\n",
    "        module=m,\n",
    "        chunksize=chunksize,\n",
    "        fpt=fpt,\n",
    "    ))"
   ]
  },
  {
   "cell_type": "markdown",
   "metadata": {},
   "source": [
    "## create multiprocessing pool and execute"
   ]
  },
  {
   "cell_type": "code",
   "execution_count": 13,
   "metadata": {},
   "outputs": [
    {
     "data": {
      "text/plain": [
       "[Delayed('process_intra_train-fa57e54b-6884-4096-bcf6-2d50b65e4510'),\n",
       " Delayed('process_intra_train-36ed8823-4dd6-48d7-9ee6-fe8a2aba434a'),\n",
       " Delayed('process_intra_train-0066f37c-0099-4472-ac00-7e55b71fda8b'),\n",
       " Delayed('process_intra_train-8bf09751-bb20-428d-b5fe-1f27c437eb2b'),\n",
       " Delayed('process_intra_train-136a3f49-7576-4236-9ce9-3209dbcc9dfc'),\n",
       " Delayed('process_intra_train-57283ad3-9f42-4597-8eb5-667c93da90ac'),\n",
       " Delayed('process_intra_train-3ff4f35e-9915-4157-b8d9-e37277fe857d'),\n",
       " Delayed('process_intra_train-ea994062-fce8-490d-814f-7380ba958877'),\n",
       " Delayed('process_intra_train-33e58888-897d-4109-b45a-bdef14427d59'),\n",
       " Delayed('process_intra_train-f488db8d-ddee-46eb-bdac-48069cecc6b7'),\n",
       " Delayed('process_intra_train-2c6937b3-7347-44a1-82f3-f1bc55f442db'),\n",
       " Delayed('process_intra_train-a62b2a7e-6d44-42c6-b89f-3249d479fd7e'),\n",
       " Delayed('process_intra_train-1970a1be-58f1-426e-b372-f8779e572903'),\n",
       " Delayed('process_intra_train-59ca02d4-b873-4a30-b730-95ec03e68390'),\n",
       " Delayed('process_intra_train-23d97e30-ecef-44c7-8b07-5b7c61b2258a'),\n",
       " Delayed('process_intra_train-98efd976-ceb7-4b14-8b16-3963f7d23844')]"
      ]
     },
     "execution_count": 13,
     "metadata": {},
     "output_type": "execute_result"
    }
   ],
   "source": [
    "#%%time\n",
    "\n",
    "mod_data = []\n",
    "for i in range(0,16):\n",
    "    res = delayed(dp.process_intra_train)(jobs[i])\n",
    "    mod_data.append(res)\n",
    "\n",
    "mod_data"
   ]
  },
  {
   "cell_type": "code",
   "execution_count": 15,
   "metadata": {},
   "outputs": [
    {
     "name": "stdout",
     "output_type": "stream",
     "text": [
      "CPU times: user 20.8 s, sys: 4.52 s, total: 25.4 s\n",
      "Wall time: 3min 32s\n"
     ]
    }
   ],
   "source": [
    "%%time\n",
    "result = compute(mod_data)[0]"
   ]
  },
  {
   "cell_type": "code",
   "execution_count": 16,
   "metadata": {},
   "outputs": [],
   "source": [
    "module_data = xr.concat(result, dim='module')\n",
    "module_data['run'] = run_nr\n",
    "module_data = module_data.transpose('pulse', 'module', 'x', 'y')"
   ]
  },
  {
   "cell_type": "markdown",
   "metadata": {},
   "source": [
    "## merge processed data with scan variable and normalization data"
   ]
  },
  {
   "cell_type": "code",
   "execution_count": 17,
   "metadata": {},
   "outputs": [],
   "source": [
    "if not is_dark:\n",
    "    xgm['pulse'] = np.arange(fpt, dtype=int)\n",
    "    xgm = xgm.mean('trainId')\n",
    "    xgm.name = 'xgm'\n",
    "    module_data = xr.merge([module_data, xgm])"
   ]
  },
  {
   "cell_type": "code",
   "execution_count": 18,
   "metadata": {},
   "outputs": [
    {
     "data": {
      "text/plain": [
       "<xarray.Dataset>\n",
       "Dimensions:    (module: 16, pulse: 75, x: 128, y: 512)\n",
       "Coordinates:\n",
       "  * pulse      (pulse) int64 0 1 2 3 4 5 6 7 8 9 ... 66 67 68 69 70 71 72 73 74\n",
       "Dimensions without coordinates: module, x, y\n",
       "Data variables:\n",
       "    image      (pulse, module, x, y) float64 48.82 50.98 44.96 ... 48.3 45.63\n",
       "    sum_count  (pulse, module) float64 1.691e+03 1.691e+03 ... 1.691e+03\n",
       "    run        int64 89\n",
       "    xgm        (pulse) float32 3959.062 3894.9146 ... 11278.968 11380.062"
      ]
     },
     "execution_count": 18,
     "metadata": {},
     "output_type": "execute_result"
    }
   ],
   "source": [
    "module_data"
   ]
  },
  {
   "cell_type": "markdown",
   "metadata": {},
   "source": [
    "## save to hdf5"
   ]
  },
  {
   "cell_type": "code",
   "execution_count": 21,
   "metadata": {},
   "outputs": [
    {
     "name": "stdout",
     "output_type": "stream",
     "text": [
      "saving:  ./processed_runs/run89_by-pulse.h5\n"
     ]
    }
   ],
   "source": [
    "import h5py\n",
    "\n",
    "overwrite = True\n",
    "\n",
    "save_folder = './processed_runs/'\n",
    "prefix = ''\n",
    "\n",
    "if is_dark:\n",
    "    fname = f'{prefix}run{run_nr}.h5'  # no scan\n",
    "else:\n",
    "    fname = f'{prefix}run{run_nr}_by-pulse.h5'  # run with delay scan (change for other scan types!)\n",
    "\n",
    "\n",
    "save_path = os.path.join(save_folder, fname)\n",
    "file_exists = os.path.isfile(save_path)\n",
    "\n",
    "if (not file_exists) or (file_exists and overwrite):\n",
    "    if file_exists:\n",
    "        os.remove(save_path)\n",
    "    h5f = h5py.File(save_path, 'w')\n",
    "    h5f.create_dataset('module_data', data=module_data.to_array())\n",
    "    h5f.create_dataset('xgm', data=xgm)\n",
    "    h5f.close()\n",
    "    print('saving: ', save_path)\n",
    "else:\n",
    "    print('file', save_path, 'exists and overwrite is False')"
   ]
  },
  {
   "cell_type": "code",
   "execution_count": 22,
   "metadata": {},
   "outputs": [],
   "source": [
    "client.close()\n",
    "cluster.close()"
   ]
  }
 ],
 "metadata": {
  "kernelspec": {
   "display_name": "Python 3",
   "language": "python",
   "name": "python3"
  },
  "language_info": {
   "codemirror_mode": {
    "name": "ipython",
    "version": 3
   },
   "file_extension": ".py",
   "mimetype": "text/x-python",
   "name": "python",
   "nbconvert_exporter": "python",
   "pygments_lexer": "ipython3",
   "version": "3.6.7"
  },
  "toc-autonumbering": false
 },
 "nbformat": 4,
 "nbformat_minor": 4
}
