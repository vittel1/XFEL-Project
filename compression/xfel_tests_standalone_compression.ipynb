{
 "cells": [
  {
   "cell_type": "code",
   "execution_count": 3,
   "metadata": {},
   "outputs": [],
   "source": [
    "import bz2\n",
    "import zlib\n",
    "import lz4.frame\n",
    "import zstandard as zstd\n",
    "import lzma\n",
    "import sys\n",
    "import time\n",
    "import os\n",
    "import numpy as np\n",
    "from matplotlib import pyplot as plt\n",
    "import pandas as pd\n",
    "import seaborn as sns"
   ]
  },
  {
   "cell_type": "markdown",
   "metadata": {},
   "source": [
    "## Content\n",
    "- [AGIPD Detector Compression](#AGIPD_poc)\n",
    "- [Charts for (de)compression](#ChartsCompression)\n"
   ]
  },
  {
   "cell_type": "code",
   "execution_count": 4,
   "metadata": {},
   "outputs": [],
   "source": [
    "dssc_dir_path = '/gpfs/exfel/exp/XMPL/201750/p700000/proc/r0023/'\n",
    "proc_file_name_dssc_list = [\n",
    "    'CORR-R0122-DSSC00-S00000.h5',\n",
    "    'CORR-R0122-DSSC03-S00004.h5',\n",
    "    'CORR-R0122-DSSC07-S00007.h5',\n",
    "    'CORR-R0122-DSSC12-S00009.h5',\n",
    "    'CORR-R0122-DSSC15-S00005.h5']\n",
    "\n",
    "proc_dir_path = '/gpfs/exfel/exp/XMPL/201750/p700000/proc/r0001/'\n",
    "proc_file_name_list = [\n",
    "    'CORR-R0017-AGIPD00-S00001.h5',\n",
    "    'CORR-R0017-AGIPD03-S00001.h5',\n",
    "    'CORR-R0017-AGIPD06-S00002.h5',\n",
    "    'CORR-R0017-AGIPD11-S00001.h5',\n",
    "    'CORR-R0017-AGIPD14-S00000.h5']\n",
    "\n",
    "raw_dir_path = '/gpfs/exfel/exp/XMPL/201750/p700000/raw/r0001/'\n",
    "raw_file_name_list = [\n",
    "    'RAW-R0017-AGIPD01-S00001.h5',\n",
    "    'RAW-R0017-AGIPD04-S00001.h5',\n",
    "    'RAW-R0017-AGIPD06-S00003.h5',\n",
    "    'RAW-R0017-AGIPD11-S00002.h5',\n",
    "    'RAW-R0017-AGIPD15-S00000.h5',\n",
    "]"
   ]
  },
  {
   "cell_type": "code",
   "execution_count": 5,
   "metadata": {},
   "outputs": [],
   "source": [
    "#open a file and read the input as binary\n",
    "def openFileAndReadInput(path, file_name):\n",
    "    with open(path + file_name, mode='rb') as file: # b for binary\n",
    "        fileContent = file.read()\n",
    "    return fileContent"
   ]
  },
  {
   "cell_type": "code",
   "execution_count": 6,
   "metadata": {},
   "outputs": [],
   "source": [
    "#read input for each file in a directory and add it to a dictionary\n",
    "#key of dict is the file name, value is the binary input\n",
    "def initFileCotentDict(file_path, file_list):\n",
    "    file_content_dict = {}\n",
    "    for file in file_list:\n",
    "        file_content_dict[file] = openFileAndReadInput(file_path, file)\n",
    "    return file_content_dict"
   ]
  },
  {
   "cell_type": "code",
   "execution_count": 7,
   "metadata": {},
   "outputs": [],
   "source": [
    "#Calculate the average space savings of one dict\n",
    "def spaceSavingsAverage(dict):\n",
    "    elements_in_dict = len(dict)\n",
    "    totalSavings = 0.0\n",
    "    for file in dict.values():\n",
    "        savings = 1 - (file['size_compressed'] / file['size_uncompressed'])\n",
    "        totalSavings = totalSavings + savings\n",
    "    average_savings = totalSavings / elements_in_dict\n",
    "    return average_savings"
   ]
  },
  {
   "cell_type": "code",
   "execution_count": 8,
   "metadata": {},
   "outputs": [],
   "source": [
    "#Calculate the average time for compression of one dict\n",
    "def timeAverage(dict, name):\n",
    "    elements_in_dict = len(dict)\n",
    "    totalTime = 0.0\n",
    "    for file in dict.values():\n",
    "        totalTime = totalTime + file[name]\n",
    "    average_time = totalTime / elements_in_dict\n",
    "    return average_time"
   ]
  },
  {
   "cell_type": "markdown",
   "metadata": {},
   "source": [
    "#### Compress functions"
   ]
  },
  {
   "cell_type": "markdown",
   "metadata": {},
   "source": [
    "#### bzip2"
   ]
  },
  {
   "cell_type": "code",
   "execution_count": 7,
   "metadata": {},
   "outputs": [],
   "source": [
    "#compress with bzip2\n",
    "#https://docs.python.org/3/library/bz2.html\n",
    "#comp_lvl could be set from 1 to 9\n",
    "#store results in a dictionary\n",
    "def bz2Compress(data, comp_lvl):\n",
    "    start_time = time.time()\n",
    "    compressed = bz2.compress(data);\n",
    "    end_time = time.time()\n",
    "    \n",
    "    total_time = end_time - start_time\n",
    "    uncompressed_size = sys.getsizeof(data)\n",
    "    bz2_size = sys.getsizeof(compressed)\n",
    "    decompression_info = bz2Decompress(data, compressed)\n",
    "    return_list = {\n",
    "        'size_uncompressed': uncompressed_size,\n",
    "        'size_compressed': bz2_size,\n",
    "        'time_compression': total_time,\n",
    "        'size_decompression': decompression_info['size_decomp'],\n",
    "        'equal': decompression_info['equal'],\n",
    "        'time_decompression': decompression_info['time'],\n",
    "    }\n",
    "    return return_list"
   ]
  },
  {
   "cell_type": "code",
   "execution_count": 8,
   "metadata": {},
   "outputs": [],
   "source": [
    "def bz2Decompress(data, comp_data):\n",
    "    start_time = time.time()\n",
    "    decompressed = bz2.decompress(comp_data)\n",
    "    end_time = time.time()\n",
    "\n",
    "    total_time = end_time - start_time\n",
    "    decompressed_size = sys.getsizeof(decompressed)\n",
    "    \n",
    "    comparison_value = False\n",
    "    if(data == decompressed):\n",
    "        comparison_value = True\n",
    "    \n",
    "    return_list = {\n",
    "        'size_decomp': decompressed_size,\n",
    "        'equal': comparison_value,\n",
    "        'time': total_time\n",
    "    }\n",
    "    return return_list"
   ]
  },
  {
   "cell_type": "markdown",
   "metadata": {},
   "source": [
    "#### zstd"
   ]
  },
  {
   "cell_type": "code",
   "execution_count": 10,
   "metadata": {},
   "outputs": [],
   "source": [
    "#compress with zstd\n",
    "#https://facebook.github.io/zstd/\n",
    "#https://pypi.org/project/zstandard/\n",
    "#https://github.com/indygreg/python-zstandard\n",
    "#comp_lvl valid values are between 1 and 22\n",
    "def zstdCompress(data, comp_lvl):\n",
    "    cctx = zstd.ZstdCompressor(level=comp_lvl)\n",
    "    \n",
    "    start_time = time.time()\n",
    "    compressed = cctx.compress(data)\n",
    "    end_time = time.time()\n",
    "    \n",
    "    total_time = end_time - start_time\n",
    "    uncompressed_size = sys.getsizeof(data)\n",
    "    zstd_size = sys.getsizeof(compressed)\n",
    "    decompression_info = zstdDecompress(data, compressed)\n",
    "    return_list = {\n",
    "        'size_uncompressed': uncompressed_size,\n",
    "        'size_compressed': zstd_size,\n",
    "        'time_compression': total_time,\n",
    "        'size_decompression': decompression_info['size_decomp'],\n",
    "        'equal': decompression_info['equal'],\n",
    "        'time_decompression': decompression_info['time'],\n",
    "    }\n",
    "    return return_list"
   ]
  },
  {
   "cell_type": "code",
   "execution_count": 11,
   "metadata": {},
   "outputs": [],
   "source": [
    "def zstdDecompress(data, comp_data):\n",
    "    decompressor = zstd.ZstdDecompressor()\n",
    "    start_time = time.time()\n",
    "    decompressed = decompressor.decompress(comp_data)\n",
    "    end_time = time.time()\n",
    "\n",
    "    total_time = end_time - start_time\n",
    "    decompressed_size = sys.getsizeof(decompressed)\n",
    "    \n",
    "    comparison_value = False\n",
    "    if(data == decompressed):\n",
    "        comparison_value = True\n",
    "    \n",
    "    return_list = {\n",
    "        'size_decomp': decompressed_size,\n",
    "        'equal': comparison_value,\n",
    "        'time': total_time\n",
    "    }\n",
    "    return return_list"
   ]
  },
  {
   "cell_type": "markdown",
   "metadata": {},
   "source": [
    "#### lzma"
   ]
  },
  {
   "cell_type": "code",
   "execution_count": 11,
   "metadata": {},
   "outputs": [],
   "source": [
    "#Compress with lzma\n",
    "#https://docs.python.org/dev/library/lzma.html#module-lzma\n",
    "def lzmaCompress(data):\n",
    "    compressor = lzma.LZMACompressor()\n",
    "    \n",
    "    start_time = time.time()\n",
    "    compressed = compressor.compress(data)\n",
    "    end_time = time.time()\n",
    "    \n",
    "    total_time = end_time - start_time\n",
    "    uncompressed_size = sys.getsizeof(data)\n",
    "    lzma_size = sys.getsizeof(compressed)\n",
    "    decompression_info = lzmaDecompress(data, compressed)\n",
    "    return_list = {\n",
    "        'size_uncompressed': uncompressed_size,\n",
    "        'size_compressed': lzma_size,\n",
    "        'time_compression': total_time,\n",
    "        'size_decompression': decompression_info['size_decomp'],\n",
    "        'equal': decompression_info['equal'],\n",
    "        'time_decompression': decompression_info['time'],\n",
    "    }\n",
    "    return return_list"
   ]
  },
  {
   "cell_type": "code",
   "execution_count": 12,
   "metadata": {},
   "outputs": [],
   "source": [
    "def lzmaDecompress(data, comp_data):\n",
    "    decompressor = lzma.LZMADecompressor()\n",
    "    start_time = time.time()\n",
    "    decompressed = decompressor.decompress(comp_data)\n",
    "    end_time = time.time()\n",
    "\n",
    "    total_time = end_time - start_time\n",
    "    decompressed_size = sys.getsizeof(decompressed)\n",
    "    \n",
    "    comparison_value = False\n",
    "    if(data == decompressed):\n",
    "        comparison_value = True\n",
    "    \n",
    "    return_list = {\n",
    "        'size_decomp': decompressed_size,\n",
    "        'equal': comparison_value,\n",
    "        'time': total_time\n",
    "    }\n",
    "    return return_list"
   ]
  },
  {
   "cell_type": "markdown",
   "metadata": {},
   "source": [
    "#### zlib"
   ]
  },
  {
   "cell_type": "code",
   "execution_count": 13,
   "metadata": {},
   "outputs": [],
   "source": [
    "#Compress with zlib\n",
    "#https://docs.python.org/3/library/zlib.html\n",
    "def zlibCompress(data, comp_lvl):\n",
    "    start_time = time.time()\n",
    "    compressed = zlib.compress(data)\n",
    "    end_time = time.time()\n",
    "    \n",
    "    total_time = end_time - start_time\n",
    "    uncompressed_size = sys.getsizeof(data)\n",
    "    zlib_size = sys.getsizeof(compressed)\n",
    "    decompression_info = zlibDecompress(data, compressed)\n",
    "    return_list = {\n",
    "        'size_uncompressed': uncompressed_size,\n",
    "        'size_compressed': zlib_size,\n",
    "        'time_compression': total_time,\n",
    "        'size_decompression': decompression_info['size_decomp'],\n",
    "        'equal': decompression_info['equal'],\n",
    "        'time_decompression': decompression_info['time'],\n",
    "    }\n",
    "    return return_list"
   ]
  },
  {
   "cell_type": "code",
   "execution_count": 14,
   "metadata": {},
   "outputs": [],
   "source": [
    "def zlibDecompress(data, comp_data):\n",
    "    start_time = time.time()\n",
    "    decompressed = zlib.decompress(comp_data)\n",
    "    end_time = time.time()\n",
    "\n",
    "    total_time = end_time - start_time\n",
    "    decompressed_size = sys.getsizeof(decompressed)\n",
    "    \n",
    "    comparison_value = False\n",
    "    if(data == decompressed):\n",
    "        comparison_value = True\n",
    "    \n",
    "    return_list = {\n",
    "        'size_decomp': decompressed_size,\n",
    "        'equal': comparison_value,\n",
    "        'time': total_time\n",
    "    }\n",
    "    return return_list"
   ]
  },
  {
   "cell_type": "markdown",
   "metadata": {},
   "source": [
    "#### lz4"
   ]
  },
  {
   "cell_type": "code",
   "execution_count": 14,
   "metadata": {},
   "outputs": [],
   "source": [
    "#Compress with lz4\n",
    "#https://python-lz4.readthedocs.io/en/stable/quickstart.html#simple-usage\n",
    "#Specifies the level of compression used. Values between 0-16 are valid, with 0 (default) being the lowest compression (0-2 are the same value), and 16 the highest. Values above 16 will be treated as 16. Values between 4-9 are recommended. 0 is the default.\n",
    "def lz4Compress(data, comp_lvl): \n",
    "    lz4.frame.compression_level=comp_lvl\n",
    "    start_time = time.time()\n",
    "    compressed = lz4.frame.compress(data)\n",
    "    end_time = time.time()\n",
    "    \n",
    "    total_time = end_time - start_time\n",
    "    uncompressed_size = sys.getsizeof(data)\n",
    "    lz4_size = sys.getsizeof(compressed)\n",
    "    decompression_info = lz4Decompress(data, compressed)\n",
    "    return_list = {\n",
    "        'size_uncompressed': uncompressed_size,\n",
    "        'size_compressed': lz4_size,\n",
    "        'time_compression': total_time,\n",
    "        'size_decompression': decompression_info['size_decomp'],\n",
    "        'equal': decompression_info['equal'],\n",
    "        'time_decompression': decompression_info['time'],\n",
    "    }\n",
    "    return return_list"
   ]
  },
  {
   "cell_type": "code",
   "execution_count": 10,
   "metadata": {},
   "outputs": [],
   "source": [
    "def lz4Decompress(data, comp_data):\n",
    "    start_time = time.time()\n",
    "    decompressed = lz4.frame.decompress(comp_data)\n",
    "    end_time = time.time()\n",
    "\n",
    "    total_time = end_time - start_time\n",
    "    decompressed_size = sys.getsizeof(decompressed)\n",
    "    \n",
    "    comparison_value = False\n",
    "    if(data == decompressed):\n",
    "        comparison_value = True\n",
    "    \n",
    "    return_list = {\n",
    "        'size_decomp': decompressed_size,\n",
    "        'equal': comparison_value,\n",
    "        'time': total_time\n",
    "    }\n",
    "    return return_list"
   ]
  },
  {
   "cell_type": "markdown",
   "metadata": {},
   "source": [
    "### DSSC Detektor - Proc Files"
   ]
  },
  {
   "cell_type": "code",
   "execution_count": 12,
   "metadata": {},
   "outputs": [],
   "source": [
    "#Init the file content dictionary with dssc proc files\n",
    "dssc_file_content_dict = initFileCotentDict(dssc_dir_path, proc_file_name_dssc_list)"
   ]
  },
  {
   "cell_type": "code",
   "execution_count": 13,
   "metadata": {},
   "outputs": [],
   "source": [
    "#Call bz2Compress function and add results to bz2_compressed_dict\n",
    "dssc_bz2_proc_compressed_dict = {}\n",
    "for name, content in dssc_file_content_dict.items():\n",
    "    dssc_bz2_proc_compressed_dict[name] = bz2Compress(content, 9)"
   ]
  },
  {
   "cell_type": "code",
   "execution_count": 14,
   "metadata": {},
   "outputs": [
    {
     "name": "stdout",
     "output_type": "stream",
     "text": [
      "{'size_uncomp': 6744950893, 'size_comp': 553790, 'time': 70.63872814178467}\n",
      "{'size_uncomp': 6744950893, 'size_comp': 381692, 'time': 70.41879153251648}\n",
      "{'size_uncomp': 6744950893, 'size_comp': 1183839, 'time': 71.2517557144165}\n",
      "{'size_uncomp': 6744950893, 'size_comp': 372153, 'time': 68.3836841583252}\n",
      "{'size_uncomp': 6744950893, 'size_comp': 1099514, 'time': 70.94074153900146}\n"
     ]
    }
   ],
   "source": [
    "for result in dssc_bz2_proc_compressed_dict.values():\n",
    "    print(result)"
   ]
  },
  {
   "cell_type": "code",
   "execution_count": 28,
   "metadata": {},
   "outputs": [
    {
     "name": "stdout",
     "output_type": "stream",
     "text": [
      "Stored 'dssc_bz2_proc_compressed_dict' (dict)\n"
     ]
    }
   ],
   "source": [
    "%store dssc_bz2_proc_compressed_dict"
   ]
  },
  {
   "cell_type": "markdown",
   "metadata": {},
   "source": [
    "### AGIPD Detektor\n",
    "<a id='AGIPD_poc'></a>"
   ]
  },
  {
   "cell_type": "code",
   "execution_count": 8,
   "metadata": {},
   "outputs": [],
   "source": [
    "#Init the file content dictionary with agipd proc files\n",
    "agipd_file_content_dict = initFileCotentDict(proc_dir_path, proc_file_name_list)"
   ]
  },
  {
   "cell_type": "code",
   "execution_count": 20,
   "metadata": {},
   "outputs": [],
   "source": [
    "#Init the file content dictionary with agipd proc files\n",
    "raw_agipd_file_content_dict = initFileCotentDict(raw_dir_path, raw_file_name_list)"
   ]
  },
  {
   "cell_type": "markdown",
   "metadata": {},
   "source": [
    "##### Bzip2 Compression"
   ]
  },
  {
   "cell_type": "code",
   "execution_count": 29,
   "metadata": {},
   "outputs": [],
   "source": [
    "#Proc\n",
    "#Call bz2Compress function and add results to bz2_compressed_dict\n",
    "agipd_bz2_proc_compressed_dict = {}\n",
    "for name, content in agipd_file_content_dict.items():\n",
    "    agipd_bz2_proc_compressed_dict[name] = bz2Compress(content, 9)"
   ]
  },
  {
   "cell_type": "code",
   "execution_count": 30,
   "metadata": {},
   "outputs": [
    {
     "name": "stdout",
     "output_type": "stream",
     "text": [
      "{'size_uncompressed': 12888858433, 'size_compressed': 8289939063, 'time_compression': 1198.1364138126373, 'size_decompression': 12888858433, 'equal': True, 'time_decompression': 649.6344034671783}\n",
      "{'size_uncompressed': 12888858433, 'size_compressed': 8199987842, 'time_compression': 1167.2887210845947, 'size_decompression': 12888858433, 'equal': True, 'time_decompression': 646.0554203987122}\n",
      "{'size_uncompressed': 12888858433, 'size_compressed': 8238935383, 'time_compression': 1155.8574981689453, 'size_decompression': 12888858433, 'equal': True, 'time_decompression': 626.6736407279968}\n",
      "{'size_uncompressed': 12888858433, 'size_compressed': 8270437916, 'time_compression': 1176.4615488052368, 'size_decompression': 12888858433, 'equal': True, 'time_decompression': 637.6403839588165}\n",
      "{'size_uncompressed': 9591217377, 'size_compressed': 6121623150, 'time_compression': 852.772479057312, 'size_decompression': 9591217377, 'equal': True, 'time_decompression': 473.3482098579407}\n"
     ]
    }
   ],
   "source": [
    "for result in agipd_bz2_proc_compressed_dict.values():\n",
    "    print(result)"
   ]
  },
  {
   "cell_type": "code",
   "execution_count": 31,
   "metadata": {},
   "outputs": [
    {
     "data": {
      "text/plain": [
       "0.360290085800181"
      ]
     },
     "execution_count": 31,
     "metadata": {},
     "output_type": "execute_result"
    }
   ],
   "source": [
    "spaceSavingsAverage(agipd_bz2_proc_compressed_dict)"
   ]
  },
  {
   "cell_type": "code",
   "execution_count": 32,
   "metadata": {},
   "outputs": [
    {
     "name": "stdout",
     "output_type": "stream",
     "text": [
      "Stored 'agipd_bz2_proc_compressed_dict' (dict)\n"
     ]
    }
   ],
   "source": [
    "%store agipd_bz2_proc_compressed_dict"
   ]
  },
  {
   "cell_type": "code",
   "execution_count": 27,
   "metadata": {},
   "outputs": [],
   "source": [
    "#Raw\n",
    "#Call bz2Compress function and add results to bz2_compressed_dict\n",
    "agipd_bz2_raw_compressed_dict = {}\n",
    "for name, content in raw_agipd_file_content_dict.items():\n",
    "    agipd_bz2_raw_compressed_dict[name] = bz2Compress(content, 9)"
   ]
  },
  {
   "cell_type": "code",
   "execution_count": 28,
   "metadata": {},
   "outputs": [
    {
     "name": "stdout",
     "output_type": "stream",
     "text": [
      "{'size_uncompressed': 8594165747, 'size_compressed': 5732361984, 'time_compression': 945.856454372406, 'size_decompression': 8594165747, 'equal': True, 'time_decompression': 511.93759512901306}\n",
      "{'size_uncompressed': 8594165747, 'size_compressed': 5748536081, 'time_compression': 947.8170788288116, 'size_decompression': 8594165747, 'equal': True, 'time_decompression': 515.5011487007141}\n",
      "{'size_uncompressed': 587960307, 'size_compressed': 396623937, 'time_compression': 64.10576224327087, 'size_decompression': 587960307, 'equal': True, 'time_decompression': 35.0939245223999}\n",
      "{'size_uncompressed': 8594165747, 'size_compressed': 5776073445, 'time_compression': 929.179381608963, 'size_decompression': 8594165747, 'equal': True, 'time_decompression': 516.4434802532196}\n",
      "{'size_uncompressed': 6395375731, 'size_compressed': 4175435262, 'time_compression': 684.6425225734711, 'size_decompression': 6395375731, 'equal': True, 'time_decompression': 375.0489537715912}\n"
     ]
    }
   ],
   "source": [
    "for result in agipd_bz2_raw_compressed_dict.values():\n",
    "    print(result)"
   ]
  },
  {
   "cell_type": "code",
   "execution_count": 29,
   "metadata": {},
   "outputs": [
    {
     "name": "stdout",
     "output_type": "stream",
     "text": [
      "Stored 'agipd_bz2_raw_compressed_dict' (dict)\n"
     ]
    }
   ],
   "source": [
    "%store agipd_bz2_raw_compressed_dict"
   ]
  },
  {
   "cell_type": "markdown",
   "metadata": {},
   "source": [
    "##### Zstd Compression "
   ]
  },
  {
   "cell_type": "code",
   "execution_count": 19,
   "metadata": {},
   "outputs": [],
   "source": [
    "#Proc\n",
    "#Call zstdCompress function and add results to agipd_zstd_compressed_dict\n",
    "agipd_zstd_proc_compressed_dict = {}\n",
    "for name, content in agipd_file_content_dict.items():\n",
    "    agipd_zstd_proc_compressed_dict[name] = zstdCompress(content, 9)"
   ]
  },
  {
   "cell_type": "code",
   "execution_count": 20,
   "metadata": {},
   "outputs": [
    {
     "name": "stdout",
     "output_type": "stream",
     "text": [
      "{'size_uncompressed': 12888858433, 'size_compressed': 8070309391, 'time_compression': 20.516207218170166, 'size_decompression': 12888858433, 'equal': True, 'time_decompression': 15.722862720489502}\n",
      "{'size_uncompressed': 12888858433, 'size_compressed': 7871458685, 'time_compression': 20.185632705688477, 'size_decompression': 12888858433, 'equal': True, 'time_decompression': 15.304373741149902}\n",
      "{'size_uncompressed': 12888858433, 'size_compressed': 7934978574, 'time_compression': 22.144451141357422, 'size_decompression': 12888858433, 'equal': True, 'time_decompression': 15.798900842666626}\n",
      "{'size_uncompressed': 12888858433, 'size_compressed': 8013249202, 'time_compression': 19.58169984817505, 'size_decompression': 12888858433, 'equal': True, 'time_decompression': 15.487546920776367}\n",
      "{'size_uncompressed': 9591217377, 'size_compressed': 5872111358, 'time_compression': 14.401196479797363, 'size_decompression': 9591217377, 'equal': True, 'time_decompression': 11.377268552780151}\n"
     ]
    }
   ],
   "source": [
    "for result in agipd_zstd_proc_compressed_dict.values():\n",
    "    print(result)"
   ]
  },
  {
   "cell_type": "code",
   "execution_count": 21,
   "metadata": {},
   "outputs": [
    {
     "data": {
      "text/plain": [
       "0.38270639212867696"
      ]
     },
     "execution_count": 21,
     "metadata": {},
     "output_type": "execute_result"
    }
   ],
   "source": [
    "spaceSavingsAverage(agipd_zstd_proc_compressed_dict)"
   ]
  },
  {
   "cell_type": "code",
   "execution_count": 22,
   "metadata": {},
   "outputs": [
    {
     "name": "stdout",
     "output_type": "stream",
     "text": [
      "Stored 'agipd_zstd_proc_compressed_dict' (dict)\n"
     ]
    }
   ],
   "source": [
    "%store agipd_zstd_proc_compressed_dict"
   ]
  },
  {
   "cell_type": "code",
   "execution_count": 18,
   "metadata": {},
   "outputs": [],
   "source": [
    "#Raw\n",
    "#Call zstdCompress function and add results to agipd_zstd_compressed_dict\n",
    "agipd_zstd_raw_compressed_dict = {}\n",
    "for name, content in raw_agipd_file_content_dict.items():\n",
    "    agipd_zstd_raw_compressed_dict[name] = zstdCompress(content, 9)"
   ]
  },
  {
   "cell_type": "code",
   "execution_count": 19,
   "metadata": {},
   "outputs": [
    {
     "name": "stdout",
     "output_type": "stream",
     "text": [
      "{'size_uncompressed': 8594165747, 'size_compressed': 6750615339, 'time_compression': 41.46302604675293, 'size_decompression': 8594165747, 'equal': True, 'time_decompression': 17.218369960784912}\n",
      "{'size_uncompressed': 8594165747, 'size_compressed': 6757080186, 'time_compression': 43.73562407493591, 'size_decompression': 8594165747, 'equal': True, 'time_decompression': 18.22525453567505}\n",
      "{'size_uncompressed': 587960307, 'size_compressed': 470051442, 'time_compression': 2.208280324935913, 'size_decompression': 587960307, 'equal': True, 'time_decompression': 1.2028827667236328}\n",
      "{'size_uncompressed': 8594165747, 'size_compressed': 6869812956, 'time_compression': 46.05163908004761, 'size_decompression': 8594165747, 'equal': True, 'time_decompression': 19.774051904678345}\n",
      "{'size_uncompressed': 6395375731, 'size_compressed': 4848593235, 'time_compression': 35.212339639663696, 'size_decompression': 6395375731, 'equal': True, 'time_decompression': 13.188734292984009}\n"
     ]
    }
   ],
   "source": [
    "for result in agipd_zstd_raw_compressed_dict.values():\n",
    "    print(result)"
   ]
  },
  {
   "cell_type": "code",
   "execution_count": 20,
   "metadata": {},
   "outputs": [
    {
     "name": "stdout",
     "output_type": "stream",
     "text": [
      "Stored 'agipd_zstd_raw_compressed_dict' (dict)\n"
     ]
    }
   ],
   "source": [
    "%store agipd_zstd_raw_compressed_dict"
   ]
  },
  {
   "cell_type": "markdown",
   "metadata": {},
   "source": [
    "#### Zstd Compression with Level"
   ]
  },
  {
   "cell_type": "code",
   "execution_count": 12,
   "metadata": {},
   "outputs": [],
   "source": [
    "#comp_lvl valid values are between 1 and 22\n",
    "#compression for proc file: CORR-R0017-AGIPD00-S00001.h5 \n",
    "agipd_lvl_zstd_proc_compressed_dict = {}\n",
    "for i in range(1,23):\n",
    "    agipd_lvl_zstd_proc_compressed_dict[i] = zstdCompress(agipd_file_content_dict['CORR-R0017-AGIPD00-S00001.h5'], i)"
   ]
  },
  {
   "cell_type": "code",
   "execution_count": 14,
   "metadata": {},
   "outputs": [
    {
     "name": "stdout",
     "output_type": "stream",
     "text": [
      "{'size_uncompressed': 12888858433, 'size_compressed': 8074512498, 'time_compression': 19.089486122131348, 'size_decompression': 12888858433, 'equal': True, 'time_decompression': 15.162740230560303}\n",
      "{'size_uncompressed': 12888858433, 'size_compressed': 8075935292, 'time_compression': 19.86956262588501, 'size_decompression': 12888858433, 'equal': True, 'time_decompression': 15.093453407287598}\n",
      "{'size_uncompressed': 12888858433, 'size_compressed': 8070309391, 'time_compression': 22.244505643844604, 'size_decompression': 12888858433, 'equal': True, 'time_decompression': 15.082154273986816}\n",
      "{'size_uncompressed': 12888858433, 'size_compressed': 8070304404, 'time_compression': 20.631487607955933, 'size_decompression': 12888858433, 'equal': True, 'time_decompression': 14.886514663696289}\n",
      "{'size_uncompressed': 12888858433, 'size_compressed': 8068782045, 'time_compression': 71.06559538841248, 'size_decompression': 12888858433, 'equal': True, 'time_decompression': 14.98871111869812}\n",
      "{'size_uncompressed': 12888858433, 'size_compressed': 8064701676, 'time_compression': 75.0365560054779, 'size_decompression': 12888858433, 'equal': True, 'time_decompression': 14.932387828826904}\n",
      "{'size_uncompressed': 12888858433, 'size_compressed': 8063732917, 'time_compression': 80.05805134773254, 'size_decompression': 12888858433, 'equal': True, 'time_decompression': 14.822871923446655}\n",
      "{'size_uncompressed': 12888858433, 'size_compressed': 8061976053, 'time_compression': 82.2948386669159, 'size_decompression': 12888858433, 'equal': True, 'time_decompression': 14.765083312988281}\n",
      "{'size_uncompressed': 12888858433, 'size_compressed': 8058999422, 'time_compression': 80.13088154792786, 'size_decompression': 12888858433, 'equal': True, 'time_decompression': 14.715372562408447}\n",
      "{'size_uncompressed': 12888858433, 'size_compressed': 8055658945, 'time_compression': 85.36871004104614, 'size_decompression': 12888858433, 'equal': True, 'time_decompression': 14.674280166625977}\n",
      "{'size_uncompressed': 12888858433, 'size_compressed': 8055004227, 'time_compression': 115.84343361854553, 'size_decompression': 12888858433, 'equal': True, 'time_decompression': 14.672621011734009}\n",
      "{'size_uncompressed': 12888858433, 'size_compressed': 8052581779, 'time_compression': 121.12654089927673, 'size_decompression': 12888858433, 'equal': True, 'time_decompression': 14.63489055633545}\n",
      "{'size_uncompressed': 12888858433, 'size_compressed': 8050608382, 'time_compression': 135.8420925140381, 'size_decompression': 12888858433, 'equal': True, 'time_decompression': 14.616626739501953}\n",
      "{'size_uncompressed': 12888858433, 'size_compressed': 8064756765, 'time_compression': 189.95394372940063, 'size_decompression': 12888858433, 'equal': True, 'time_decompression': 14.894741773605347}\n",
      "{'size_uncompressed': 12888858433, 'size_compressed': 8063368383, 'time_compression': 217.06585335731506, 'size_decompression': 12888858433, 'equal': True, 'time_decompression': 14.870706796646118}\n",
      "{'size_uncompressed': 12888858433, 'size_compressed': 8280245618, 'time_compression': 704.1450619697571, 'size_decompression': 12888858433, 'equal': True, 'time_decompression': 15.940764427185059}\n",
      "{'size_uncompressed': 12888858433, 'size_compressed': 8272061767, 'time_compression': 1095.9949901103973, 'size_decompression': 12888858433, 'equal': True, 'time_decompression': 16.24836492538452}\n",
      "{'size_uncompressed': 12888858433, 'size_compressed': 8274271526, 'time_compression': 1414.0517728328705, 'size_decompression': 12888858433, 'equal': True, 'time_decompression': 16.641660928726196}\n",
      "{'size_uncompressed': 12888858433, 'size_compressed': 8275756409, 'time_compression': 1746.8040256500244, 'size_decompression': 12888858433, 'equal': True, 'time_decompression': 16.87061357498169}\n",
      "{'size_uncompressed': 12888858433, 'size_compressed': 8153109571, 'time_compression': 2378.31036734581, 'size_decompression': 12888858433, 'equal': True, 'time_decompression': 19.324158906936646}\n",
      "{'size_uncompressed': 12888858433, 'size_compressed': 8134581318, 'time_compression': 2569.1561551094055, 'size_decompression': 12888858433, 'equal': True, 'time_decompression': 22.316486835479736}\n",
      "{'size_uncompressed': 12888858433, 'size_compressed': 8131817941, 'time_compression': 2830.4004011154175, 'size_decompression': 12888858433, 'equal': True, 'time_decompression': 26.481404542922974}\n"
     ]
    }
   ],
   "source": [
    "for result in agipd_lvl_zstd_proc_compressed_dict.values():\n",
    "    print(result)"
   ]
  },
  {
   "cell_type": "code",
   "execution_count": 15,
   "metadata": {},
   "outputs": [
    {
     "name": "stdout",
     "output_type": "stream",
     "text": [
      "Stored 'agipd_lvl_zstd_proc_compressed_dict' (dict)\n"
     ]
    }
   ],
   "source": [
    "%store agipd_lvl_zstd_proc_compressed_dict"
   ]
  },
  {
   "cell_type": "markdown",
   "metadata": {},
   "source": [
    "#### Zlib Compression"
   ]
  },
  {
   "cell_type": "code",
   "execution_count": 19,
   "metadata": {},
   "outputs": [],
   "source": [
    "#Proc\n",
    "#Call zlibCompress function and add results to agipd_zlib_compressed_dict\n",
    "agipd_zlib_proc_compressed_dict = {}\n",
    "for name, content in agipd_file_content_dict.items():\n",
    "    agipd_zlib_proc_compressed_dict[name] = zlibCompress(content, 1)"
   ]
  },
  {
   "cell_type": "code",
   "execution_count": 20,
   "metadata": {},
   "outputs": [
    {
     "name": "stdout",
     "output_type": "stream",
     "text": [
      "{'size_uncompressed': 12888858433, 'size_compressed': 8172923983, 'time_compression': 446.18773102760315, 'size_decompression': 12888858433, 'equal': True, 'time_decompression': 62.70495128631592}\n",
      "{'size_uncompressed': 12888858433, 'size_compressed': 7913489152, 'time_compression': 439.31598591804504, 'size_decompression': 12888858433, 'equal': True, 'time_decompression': 62.53551149368286}\n",
      "{'size_uncompressed': 12888858433, 'size_compressed': 8011169949, 'time_compression': 438.90963673591614, 'size_decompression': 12888858433, 'equal': True, 'time_decompression': 64.21831202507019}\n",
      "{'size_uncompressed': 12888858433, 'size_compressed': 8124216815, 'time_compression': 517.9774143695831, 'size_decompression': 12888858433, 'equal': True, 'time_decompression': 62.9446337223053}\n",
      "{'size_uncompressed': 9591217377, 'size_compressed': 5887429509, 'time_compression': 391.3465986251831, 'size_decompression': 9591217377, 'equal': True, 'time_decompression': 46.689788818359375}\n"
     ]
    }
   ],
   "source": [
    "for result in agipd_zlib_proc_compressed_dict.values():\n",
    "    print(result)"
   ]
  },
  {
   "cell_type": "code",
   "execution_count": 21,
   "metadata": {},
   "outputs": [
    {
     "data": {
      "text/plain": [
       "0.3772382761049453"
      ]
     },
     "execution_count": 21,
     "metadata": {},
     "output_type": "execute_result"
    }
   ],
   "source": [
    "spaceSavingsAverage(agipd_zlib_proc_compressed_dict)"
   ]
  },
  {
   "cell_type": "code",
   "execution_count": 22,
   "metadata": {},
   "outputs": [
    {
     "name": "stdout",
     "output_type": "stream",
     "text": [
      "Stored 'agipd_zlib_proc_compressed_dict' (dict)\n"
     ]
    }
   ],
   "source": [
    "%store agipd_zlib_proc_compressed_dict"
   ]
  },
  {
   "cell_type": "code",
   "execution_count": 21,
   "metadata": {},
   "outputs": [],
   "source": [
    "#Raw\n",
    "#Call zlibCompress function and add results to agipd_zlib_compressed_dict\n",
    "agipd_zlib_raw_compressed_dict = {}\n",
    "for name, content in raw_agipd_file_content_dict.items():\n",
    "    agipd_zlib_raw_compressed_dict[name] = zlibCompress(content, 1)"
   ]
  },
  {
   "cell_type": "code",
   "execution_count": 22,
   "metadata": {},
   "outputs": [
    {
     "name": "stdout",
     "output_type": "stream",
     "text": [
      "{'size_uncompressed': 8594165747, 'size_compressed': 6589315687, 'time_compression': 518.3453440666199, 'size_decompression': 8594165747, 'equal': True, 'time_decompression': 59.30117106437683}\n",
      "{'size_uncompressed': 8594165747, 'size_compressed': 6587061112, 'time_compression': 513.3091537952423, 'size_decompression': 8594165747, 'equal': True, 'time_decompression': 60.890453577041626}\n",
      "{'size_uncompressed': 587960307, 'size_compressed': 452526774, 'time_compression': 33.31245255470276, 'size_decompression': 587960307, 'equal': True, 'time_decompression': 4.0014729499816895}\n",
      "{'size_uncompressed': 8594165747, 'size_compressed': 6608495423, 'time_compression': 476.0451877117157, 'size_decompression': 8594165747, 'equal': True, 'time_decompression': 60.068317890167236}\n",
      "{'size_uncompressed': 6395375731, 'size_compressed': 4819608640, 'time_compression': 357.8653938770294, 'size_decompression': 6395375731, 'equal': True, 'time_decompression': 43.83320736885071}\n"
     ]
    }
   ],
   "source": [
    "for result in agipd_zlib_raw_compressed_dict.values():\n",
    "    print(result)"
   ]
  },
  {
   "cell_type": "code",
   "execution_count": 23,
   "metadata": {},
   "outputs": [
    {
     "name": "stdout",
     "output_type": "stream",
     "text": [
      "Stored 'agipd_zlib_raw_compressed_dict' (dict)\n"
     ]
    }
   ],
   "source": [
    "%store agipd_zlib_raw_compressed_dict"
   ]
  },
  {
   "cell_type": "markdown",
   "metadata": {},
   "source": [
    "#### LZ4 Compression"
   ]
  },
  {
   "cell_type": "code",
   "execution_count": 15,
   "metadata": {},
   "outputs": [],
   "source": [
    "#Proc\n",
    "#Call lz4Compress function and add results to agipd_lz4_compressed_dict\n",
    "agipd_lz4_proc_compressed_dict = {}\n",
    "for name, content in agipd_file_content_dict.items():\n",
    "    agipd_lz4_proc_compressed_dict[name] = lz4Compress(content, 0)"
   ]
  },
  {
   "cell_type": "code",
   "execution_count": 16,
   "metadata": {},
   "outputs": [
    {
     "name": "stdout",
     "output_type": "stream",
     "text": [
      "{'size_uncompressed': 12888858433, 'size_compressed': 9182138306, 'time_compression': 17.375874280929565, 'size_decompression': 12888858433, 'equal': True, 'time_decompression': 18.3031804561615}\n",
      "{'size_uncompressed': 12888858433, 'size_compressed': 8839814493, 'time_compression': 15.264902830123901, 'size_decompression': 12888858433, 'equal': True, 'time_decompression': 17.08153533935547}\n",
      "{'size_uncompressed': 12888858433, 'size_compressed': 8901535422, 'time_compression': 15.16571307182312, 'size_decompression': 12888858433, 'equal': True, 'time_decompression': 17.28325629234314}\n",
      "{'size_uncompressed': 12888858433, 'size_compressed': 9008008298, 'time_compression': 16.12596893310547, 'size_decompression': 12888858433, 'equal': True, 'time_decompression': 17.31418204307556}\n",
      "{'size_uncompressed': 9591217377, 'size_compressed': 6519998897, 'time_compression': 10.991636753082275, 'size_decompression': 9591217377, 'equal': True, 'time_decompression': 12.910670757293701}\n"
     ]
    }
   ],
   "source": [
    "for result in agipd_lz4_proc_compressed_dict.values():\n",
    "    print(result)"
   ]
  },
  {
   "cell_type": "code",
   "execution_count": 17,
   "metadata": {},
   "outputs": [
    {
     "data": {
      "text/plain": [
       "0.3064832857658469"
      ]
     },
     "execution_count": 17,
     "metadata": {},
     "output_type": "execute_result"
    }
   ],
   "source": [
    "spaceSavingsAverage(agipd_lz4_proc_compressed_dict)"
   ]
  },
  {
   "cell_type": "code",
   "execution_count": 18,
   "metadata": {},
   "outputs": [
    {
     "name": "stdout",
     "output_type": "stream",
     "text": [
      "Stored 'agipd_lz4_proc_compressed_dict' (dict)\n"
     ]
    }
   ],
   "source": [
    "%store agipd_lz4_proc_compressed_dict"
   ]
  },
  {
   "cell_type": "code",
   "execution_count": 26,
   "metadata": {},
   "outputs": [],
   "source": [
    "#Raw\n",
    "#Call lz4Compress function and add results to agipd_lz4_compressed_dict\n",
    "agipd_lz4_raw_compressed_dict = {}\n",
    "for name, content in raw_agipd_file_content_dict.items():\n",
    "    agipd_lz4_raw_compressed_dict[name] = lz4Compress(content, 0)"
   ]
  },
  {
   "cell_type": "code",
   "execution_count": 27,
   "metadata": {},
   "outputs": [
    {
     "name": "stdout",
     "output_type": "stream",
     "text": [
      "{'size_uncompressed': 8594165747, 'size_compressed': 8590639856, 'time_compression': 15.100109100341797, 'size_decompression': 8594165747, 'equal': True, 'time_decompression': 10.59641981124878}\n",
      "{'size_uncompressed': 8594165747, 'size_compressed': 8590638243, 'time_compression': 14.688862800598145, 'size_decompression': 8594165747, 'equal': True, 'time_decompression': 10.49246859550476}\n",
      "{'size_uncompressed': 587960307, 'size_compressed': 587298097, 'time_compression': 0.9808378219604492, 'size_decompression': 587960307, 'equal': True, 'time_decompression': 0.7207987308502197}\n",
      "{'size_uncompressed': 8594165747, 'size_compressed': 8582551963, 'time_compression': 16.387532949447632, 'size_decompression': 8594165747, 'equal': True, 'time_decompression': 10.589065074920654}\n",
      "{'size_uncompressed': 6395375731, 'size_compressed': 6268764165, 'time_compression': 12.683130502700806, 'size_decompression': 6395375731, 'equal': True, 'time_decompression': 8.02799654006958}\n"
     ]
    }
   ],
   "source": [
    "for result in agipd_lz4_raw_compressed_dict.values():\n",
    "    print(result)"
   ]
  },
  {
   "cell_type": "code",
   "execution_count": 28,
   "metadata": {},
   "outputs": [
    {
     "data": {
      "text/plain": [
       "0.004619144175004775"
      ]
     },
     "execution_count": 28,
     "metadata": {},
     "output_type": "execute_result"
    }
   ],
   "source": [
    "spaceSavingsAverage(agipd_lz4_raw_compressed_dict)"
   ]
  },
  {
   "cell_type": "code",
   "execution_count": 29,
   "metadata": {},
   "outputs": [
    {
     "name": "stdout",
     "output_type": "stream",
     "text": [
      "Stored 'agipd_lz4_raw_compressed_dict' (dict)\n"
     ]
    }
   ],
   "source": [
    "%store agipd_lz4_raw_compressed_dict"
   ]
  },
  {
   "cell_type": "markdown",
   "metadata": {},
   "source": [
    "#### LZ4 Compression with level"
   ]
  },
  {
   "cell_type": "code",
   "execution_count": 30,
   "metadata": {},
   "outputs": [],
   "source": [
    "#comp_lvl: Values between 0-16 are valid\n",
    "#compression for proc file: CORR-R0017-AGIPD00-S00001.h5 \n",
    "agipd_lvl_lz4_proc_compressed_dict = {}\n",
    "for i in range(0,17):\n",
    "    agipd_lvl_lz4_proc_compressed_dict[i] = lz4Compress(agipd_file_content_dict['CORR-R0017-AGIPD00-S00001.h5'], i)"
   ]
  },
  {
   "cell_type": "code",
   "execution_count": 33,
   "metadata": {},
   "outputs": [
    {
     "name": "stdout",
     "output_type": "stream",
     "text": [
      "(0, {'size_uncompressed': 12888858433, 'size_compressed': 9182138306, 'time_compression': 17.162435054779053, 'size_decompression': 12888858433, 'equal': True, 'time_decompression': 17.835922718048096})\n",
      "(1, {'size_uncompressed': 12888858433, 'size_compressed': 9182138306, 'time_compression': 18.925782680511475, 'size_decompression': 12888858433, 'equal': True, 'time_decompression': 18.08538007736206})\n",
      "(2, {'size_uncompressed': 12888858433, 'size_compressed': 9182138306, 'time_compression': 16.891748905181885, 'size_decompression': 12888858433, 'equal': True, 'time_decompression': 18.802320957183838})\n",
      "(3, {'size_uncompressed': 12888858433, 'size_compressed': 9182138306, 'time_compression': 16.88191843032837, 'size_decompression': 12888858433, 'equal': True, 'time_decompression': 18.79147696495056})\n",
      "(4, {'size_uncompressed': 12888858433, 'size_compressed': 9182138306, 'time_compression': 16.89976215362549, 'size_decompression': 12888858433, 'equal': True, 'time_decompression': 18.746062755584717})\n",
      "(5, {'size_uncompressed': 12888858433, 'size_compressed': 9182138306, 'time_compression': 16.89084267616272, 'size_decompression': 12888858433, 'equal': True, 'time_decompression': 18.79016876220703})\n",
      "(6, {'size_uncompressed': 12888858433, 'size_compressed': 9182138306, 'time_compression': 16.992805242538452, 'size_decompression': 12888858433, 'equal': True, 'time_decompression': 18.780752897262573})\n",
      "(7, {'size_uncompressed': 12888858433, 'size_compressed': 9182138306, 'time_compression': 16.880802631378174, 'size_decompression': 12888858433, 'equal': True, 'time_decompression': 18.791340589523315})\n",
      "(8, {'size_uncompressed': 12888858433, 'size_compressed': 9182138306, 'time_compression': 16.884087324142456, 'size_decompression': 12888858433, 'equal': True, 'time_decompression': 18.806105613708496})\n",
      "(9, {'size_uncompressed': 12888858433, 'size_compressed': 9182138306, 'time_compression': 16.8837628364563, 'size_decompression': 12888858433, 'equal': True, 'time_decompression': 18.79449224472046})\n",
      "(10, {'size_uncompressed': 12888858433, 'size_compressed': 9182138306, 'time_compression': 16.875392198562622, 'size_decompression': 12888858433, 'equal': True, 'time_decompression': 18.745301485061646})\n",
      "(11, {'size_uncompressed': 12888858433, 'size_compressed': 9182138306, 'time_compression': 16.881780862808228, 'size_decompression': 12888858433, 'equal': True, 'time_decompression': 18.74579095840454})\n",
      "(12, {'size_uncompressed': 12888858433, 'size_compressed': 9182138306, 'time_compression': 16.87966775894165, 'size_decompression': 12888858433, 'equal': True, 'time_decompression': 18.885159254074097})\n",
      "(13, {'size_uncompressed': 12888858433, 'size_compressed': 9182138306, 'time_compression': 16.885846376419067, 'size_decompression': 12888858433, 'equal': True, 'time_decompression': 18.75677490234375})\n",
      "(14, {'size_uncompressed': 12888858433, 'size_compressed': 9182138306, 'time_compression': 16.888635873794556, 'size_decompression': 12888858433, 'equal': True, 'time_decompression': 18.79249858856201})\n",
      "(15, {'size_uncompressed': 12888858433, 'size_compressed': 9182138306, 'time_compression': 16.901973009109497, 'size_decompression': 12888858433, 'equal': True, 'time_decompression': 18.73957324028015})\n",
      "(16, {'size_uncompressed': 12888858433, 'size_compressed': 9182138306, 'time_compression': 16.87209916114807, 'size_decompression': 12888858433, 'equal': True, 'time_decompression': 18.737921237945557})\n"
     ]
    }
   ],
   "source": [
    "for result in agipd_lvl_lz4_proc_compressed_dict.items():\n",
    "    print(result)"
   ]
  },
  {
   "cell_type": "code",
   "execution_count": 34,
   "metadata": {},
   "outputs": [
    {
     "name": "stdout",
     "output_type": "stream",
     "text": [
      "Stored 'agipd_lvl_lz4_proc_compressed_dict' (dict)\n"
     ]
    }
   ],
   "source": [
    "%store agipd_lvl_lz4_proc_compressed_dict"
   ]
  },
  {
   "cell_type": "markdown",
   "metadata": {},
   "source": [
    "#### Lzma Compression"
   ]
  },
  {
   "cell_type": "code",
   "execution_count": 30,
   "metadata": {},
   "outputs": [],
   "source": [
    "#Proc\n",
    "#Call lzmaCompress function and add results to agipd_lzma_compressed_dict\n",
    "#Smaller file list because of long compression duration\n",
    "small_proc_file_name_list = [\n",
    "    'CORR-R0017-AGIPD00-S00001.h5',\n",
    "    'CORR-R0017-AGIPD03-S00001.h5']\n",
    "\n",
    "small_agipd_file_content_dict = initFileCotentDict(proc_dir_path, small_proc_file_name_list)\n",
    "\n",
    "agipd_lzma_proc_compressed_dict = {}\n",
    "for name, content in small_agipd_file_content_dict.items():\n",
    "    agipd_lzma_proc_compressed_dict[name] = lzmaCompress(content)"
   ]
  },
  {
   "cell_type": "code",
   "execution_count": 31,
   "metadata": {},
   "outputs": [
    {
     "name": "stdout",
     "output_type": "stream",
     "text": [
      "{'size_uncompressed': 12888858433, 'size_compressed': 7835795409, 'time_compression': 4127.637074232101, 'size_decompression': 12888599292, 'equal': False, 'time_decompression': 570.9130859375}\n",
      "{'size_uncompressed': 12888858433, 'size_compressed': 7653275978, 'time_compression': 3920.907706975937, 'size_decompression': 12888520538, 'equal': False, 'time_decompression': 564.287225484848}\n"
     ]
    }
   ],
   "source": [
    "for result in agipd_lzma_proc_compressed_dict.values():\n",
    "    print(result)"
   ]
  },
  {
   "cell_type": "code",
   "execution_count": 32,
   "metadata": {},
   "outputs": [
    {
     "data": {
      "text/plain": [
       "0.39912943153512564"
      ]
     },
     "execution_count": 32,
     "metadata": {},
     "output_type": "execute_result"
    }
   ],
   "source": [
    "spaceSavingsAverage(agipd_lzma_proc_compressed_dict)"
   ]
  },
  {
   "cell_type": "code",
   "execution_count": 33,
   "metadata": {},
   "outputs": [
    {
     "name": "stdout",
     "output_type": "stream",
     "text": [
      "Stored 'agipd_lzma_proc_compressed_dict' (dict)\n"
     ]
    }
   ],
   "source": [
    "%store agipd_lzma_proc_compressed_dict"
   ]
  },
  {
   "cell_type": "code",
   "execution_count": 30,
   "metadata": {},
   "outputs": [],
   "source": [
    "#Raw\n",
    "#Call lzmaCompress function and add results to agipd_lzma_compressed_dict\n",
    "#Smaller file list because of long compression duration\n",
    "small_raw_file_name_list = [\n",
    "    'RAW-R0017-AGIPD01-S00001.h5',\n",
    "    'RAW-R0017-AGIPD04-S00001.h5']\n",
    "\n",
    "small_raw_agipd_file_content_dict = initFileCotentDict(raw_dir_path, small_raw_file_name_list)\n",
    "\n",
    "agipd_lzma_raw_compressed_dict = {}\n",
    "for name, content in small_raw_agipd_file_content_dict.items():\n",
    "    agipd_lzma_raw_compressed_dict[name] = lzmaCompress(content)"
   ]
  },
  {
   "cell_type": "code",
   "execution_count": 31,
   "metadata": {},
   "outputs": [
    {
     "name": "stdout",
     "output_type": "stream",
     "text": [
      "{'size_uncompressed': 8594165747, 'size_compressed': 5828819941, 'time_compression': 3654.05340719223, 'size_decompression': 8593915512, 'equal': False, 'time_decompression': 382.74805307388306}\n",
      "{'size_uncompressed': 8594165747, 'size_compressed': 5831399423, 'time_compression': 3662.434723138809, 'size_decompression': 8593922979, 'equal': False, 'time_decompression': 391.8079288005829}\n"
     ]
    }
   ],
   "source": [
    "for result in agipd_lzma_raw_compressed_dict.values():\n",
    "    print(result)"
   ]
  },
  {
   "cell_type": "code",
   "execution_count": 32,
   "metadata": {},
   "outputs": [
    {
     "name": "stdout",
     "output_type": "stream",
     "text": [
      "Stored 'agipd_lzma_raw_compressed_dict' (dict)\n"
     ]
    }
   ],
   "source": [
    "%store agipd_lzma_raw_compressed_dict"
   ]
  },
  {
   "cell_type": "markdown",
   "metadata": {},
   "source": [
    "## Charts for Compression\n",
    "<a id='ChartsCompression'></a>"
   ]
  },
  {
   "cell_type": "code",
   "execution_count": 1,
   "metadata": {},
   "outputs": [],
   "source": [
    "#Get dict from store\n",
    "%store -r agipd_bz2_proc_compressed_dict\n",
    "%store -r agipd_zstd_proc_compressed_dict\n",
    "%store -r agipd_zlib_proc_compressed_dict\n",
    "%store -r agipd_lz4_proc_compressed_dict\n",
    "%store -r agipd_lzma_proc_compressed_dict\n",
    "\n",
    "%store -r agipd_bz2_raw_compressed_dict\n",
    "%store -r agipd_zstd_raw_compressed_dict\n",
    "%store -r agipd_zlib_raw_compressed_dict\n",
    "%store -r agipd_lz4_raw_compressed_dict\n",
    "%store -r agipd_lzma_raw_compressed_dict"
   ]
  },
  {
   "cell_type": "markdown",
   "metadata": {},
   "source": [
    "### Compression Savings AGIPD Detector (Proc Files)"
   ]
  },
  {
   "cell_type": "code",
   "execution_count": 38,
   "metadata": {},
   "outputs": [
    {
     "name": "stdout",
     "output_type": "stream",
     "text": [
      "              0\n",
      "bzip2  0.360290\n",
      "zstd   0.382706\n",
      "zlib   0.377238\n",
      "lz4    0.306483\n",
      "lzma   0.399129\n"
     ]
    },
    {
     "data": {
      "image/png": "[encoded data removed]",
      "text/plain": [
       "<Figure size 720x288 with 1 Axes>"
      ]
     },
     "metadata": {
      "needs_background": "light"
     },
     "output_type": "display_data"
    }
   ],
   "source": [
    "#space savings of proc file\n",
    "bar_arr = ['bzip2', 'zstd', 'zlib', 'lz4' , 'lzma']\n",
    "freq_arr_savings_compress_proc = np.array([spaceSavingsAverage(agipd_bz2_proc_compressed_dict), \n",
    "                     spaceSavingsAverage(agipd_zstd_proc_compressed_dict), \n",
    "                     spaceSavingsAverage(agipd_zlib_proc_compressed_dict), \n",
    "                     spaceSavingsAverage(agipd_lz4_proc_compressed_dict), \n",
    "                     spaceSavingsAverage(agipd_lzma_proc_compressed_dict)])\n",
    "\n",
    "df = pd.DataFrame(np.c_[freq_arr_savings_compress_proc], index=bar_arr)\n",
    "\n",
    "print(df)\n",
    "\n",
    "ax = df.plot.bar(figsize=(10,4))\n",
    "ax.legend(['compress savings'])\n",
    "plt.title('avgerage compress savings of proc files of agipd detector. default values for algorithm')\n",
    "\n",
    "plt.show()"
   ]
  },
  {
   "cell_type": "markdown",
   "metadata": {},
   "source": [
    "### Compression Savings AGIPD Detector (Raw Files)"
   ]
  },
  {
   "cell_type": "code",
   "execution_count": 10,
   "metadata": {},
   "outputs": [
    {
     "name": "stdout",
     "output_type": "stream",
     "text": [
      "              0\n",
      "bzip2  0.332911\n",
      "zstd   0.214262\n",
      "zlib   0.234922\n",
      "lz4    0.004619\n",
      "lzma   0.321620\n"
     ]
    },
    {
     "data": {
      "image/png": "[encoded data removed]",
      "text/plain": [
       "<Figure size 720x288 with 1 Axes>"
      ]
     },
     "metadata": {
      "needs_background": "light"
     },
     "output_type": "display_data"
    }
   ],
   "source": [
    "#space savings of raw file\n",
    "bar_arr = ['bzip2', 'zstd', 'zlib', 'lz4' , 'lzma']\n",
    "freq_arr_savings_compress_raw = np.array([spaceSavingsAverage(agipd_bz2_raw_compressed_dict), \n",
    "                     spaceSavingsAverage(agipd_zstd_raw_compressed_dict), \n",
    "                     spaceSavingsAverage(agipd_zlib_raw_compressed_dict), \n",
    "                     spaceSavingsAverage(agipd_lz4_raw_compressed_dict), \n",
    "                     spaceSavingsAverage(agipd_lzma_raw_compressed_dict)])\n",
    "\n",
    "df = pd.DataFrame(np.c_[freq_arr_savings_compress_raw], index=bar_arr)\n",
    "\n",
    "print(df)\n",
    "\n",
    "ax = df.plot.bar(figsize=(10,4))\n",
    "ax.legend(['compress savings'])\n",
    "plt.title('avgerage compress savings of raw files of agipd detector. default values for algorithm')\n",
    "\n",
    "plt.show()"
   ]
  },
  {
   "cell_type": "markdown",
   "metadata": {},
   "source": [
    "### Compression time AGIPD Detector (Proc Files)"
   ]
  },
  {
   "cell_type": "code",
   "execution_count": 35,
   "metadata": {},
   "outputs": [
    {
     "name": "stdout",
     "output_type": "stream",
     "text": [
      "                 0\n",
      "bzip2  1110.103332\n",
      "zstd     19.365837\n",
      "zlib    446.747473\n",
      "lz4      10.327610\n",
      "lzma   4024.272391\n"
     ]
    },
    {
     "data": {
      "image/png": "[encoded data removed]",
      "text/plain": [
       "<Figure size 720x288 with 1 Axes>"
      ]
     },
     "metadata": {
      "needs_background": "light"
     },
     "output_type": "display_data"
    }
   ],
   "source": [
    "#space savings of proc file\n",
    "bar_arr = ['bzip2', 'zstd', 'zlib', 'lz4' , 'lzma']\n",
    "freq_arr_time_compress_proc = np.array([timeAverage(agipd_bz2_proc_compressed_dict, 'time_compression'), \n",
    "                     timeAverage(agipd_zstd_proc_compressed_dict, 'time_compression'), \n",
    "                     timeAverage(agipd_zlib_proc_compressed_dict, 'time_compression'), \n",
    "                     timeAverage(agipd_lz4_proc_compressed_dict, 'time_compression'), \n",
    "                     timeAverage(agipd_lzma_proc_compressed_dict, 'time_compression')])\n",
    "\n",
    "df = pd.DataFrame(np.c_[freq_arr_time_compress_proc], index=bar_arr)\n",
    "\n",
    "print(df)\n",
    "\n",
    "ax = df.plot.bar(figsize=(10,4))\n",
    "ax.legend(['compress time'])\n",
    "plt.title('avgerage compression time of proc files of agipd detector. default values for algorithm')\n",
    "\n",
    "plt.show()"
   ]
  },
  {
   "cell_type": "markdown",
   "metadata": {},
   "source": [
    "### Decompression time AGIPD Detector (Proc Files)"
   ]
  },
  {
   "cell_type": "code",
   "execution_count": 37,
   "metadata": {},
   "outputs": [
    {
     "name": "stdout",
     "output_type": "stream",
     "text": [
      "                0\n",
      "bzip2  606.670412\n",
      "zstd    14.738191\n",
      "zlib    59.818639\n",
      "lz4     10.929551\n",
      "lzma   567.600156\n"
     ]
    },
    {
     "data": {
      "image/png": "[encoded data removed]",
      "text/plain": [
       "<Figure size 720x288 with 1 Axes>"
      ]
     },
     "metadata": {
      "needs_background": "light"
     },
     "output_type": "display_data"
    }
   ],
   "source": [
    "#space savings of proc file\n",
    "bar_arr = ['bzip2', 'zstd', 'zlib', 'lz4' , 'lzma']\n",
    "freq_arr_time_compress_proc = np.array([timeAverage(agipd_bz2_proc_compressed_dict, 'time_decompression'), \n",
    "                     timeAverage(agipd_zstd_proc_compressed_dict, 'time_decompression'), \n",
    "                     timeAverage(agipd_zlib_proc_compressed_dict, 'time_decompression'), \n",
    "                     timeAverage(agipd_lz4_proc_compressed_dict, 'time_decompression'), \n",
    "                     timeAverage(agipd_lzma_proc_compressed_dict, 'time_decompression')])\n",
    "\n",
    "df = pd.DataFrame(np.c_[freq_arr_time_compress_proc], index=bar_arr)\n",
    "\n",
    "print(df)\n",
    "\n",
    "ax = df.plot.bar(figsize=(10,4))\n",
    "ax.legend(['decompress time'])\n",
    "plt.title('avgerage decompression time of proc files of agipd detector. default values for algorithm')\n",
    "\n",
    "plt.show()"
   ]
  }
 ],
 "metadata": {
  "kernelspec": {
   "display_name": "Python 3",
   "language": "python",
   "name": "python3"
  },
  "language_info": {
   "codemirror_mode": {
    "name": "ipython",
    "version": 3
   },
   "file_extension": ".py",
   "mimetype": "text/x-python",
   "name": "python",
   "nbconvert_exporter": "python",
   "pygments_lexer": "ipython3",
   "version": "3.6.7"
  }
 },
 "nbformat": 4,
 "nbformat_minor": 2
}
