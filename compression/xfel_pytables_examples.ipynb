{
 "cells": [
  {
   "cell_type": "code",
   "execution_count": 1,
   "metadata": {},
   "outputs": [],
   "source": [
    "from h5glance import H5Glance"
   ]
  },
  {
   "cell_type": "code",
   "execution_count": 2,
   "metadata": {},
   "outputs": [],
   "source": [
    "file_raw = '/gpfs/exfel/exp/XMPL/201750/p700000/raw/r0001/RAW-R0017-AGIPD01-S00001.h5'\n",
    "file_proc = '/gpfs/exfel/exp/XMPL/201750/p700000/proc/r0001/CORR-R0017-AGIPD01-S00001.h5'\n",
    "file_proc_dssc = '/gpfs/exfel/exp/XMPL/201750/p700000/proc/r0023/CORR-R0122-DSSC00-S00000.h5' "
   ]
  },
  {
   "cell_type": "code",
   "execution_count": 3,
   "metadata": {},
   "outputs": [
    {
     "data": {
      "text/html": [
       "<div><style>/* Based on https://css-tricks.com/snippets/css/nested-expandable-folders/\n",
       "   Reused with permission from https://css-tricks.com/license/\n",
       "*/\n",
       "\n",
       ".h5glance-css-treeview ul,\n",
       ".h5glance-css-treeview li\n",
       "{\n",
       "\tpadding: 0;\n",
       "\tmargin: 0;\n",
       "    margin-left: 12px;\n",
       "\tlist-style: none;\n",
       "}\n",
       "\n",
       "/* Override padding from Jupyter CSS */\n",
       ".rendered_html .h5glance-css-treeview ul {\n",
       "    padding: 0;\n",
       "}\n",
       "\n",
       "/* Make the checkbox itself invisible */\n",
       ".h5glance-css-treeview input\n",
       "{\n",
       "\tposition: absolute;\n",
       "\topacity: 0;\n",
       "}\n",
       "\n",
       ".h5glance-css-treeview\n",
       "{\n",
       "    font-family: sans-serif;\n",
       "\t-moz-user-select: none;\n",
       "\t-webkit-user-select: none;\n",
       "\tuser-select: none;\n",
       "}\n",
       "\n",
       ".h5glance-css-treeview code {\n",
       "    font-size: 12pt;\n",
       "    font-family: \"courier\", monospace;\n",
       "}\n",
       "\n",
       ".h5glance-css-treeview a.h5glance-dataset-copylink\n",
       "{\n",
       "    text-decoration: none;\n",
       "}\n",
       "\n",
       "/* These next two bits drive the expanding/collapsing behaviour */\n",
       ".h5glance-css-treeview input + label + ul\n",
       "{\n",
       "\tdisplay: none;\n",
       "}\n",
       "\n",
       ".h5glance-css-treeview input:checked:not(:disabled) + label + ul\n",
       "{\n",
       "\tdisplay: block;\n",
       "}\n",
       "\n",
       ".h5glance-css-treeview label,\n",
       ".h5glance-css-treeview label::before\n",
       "{\n",
       "\tdisplay: inline-block;\n",
       "\theight: 16px;\n",
       "\tline-height: 16px;,\n",
       "\tvertical-align: middle;\n",
       "}\n",
       "\n",
       ".h5glance-css-treeview label\n",
       "{\n",
       "    margin-left: -1.5em;\n",
       "}\n",
       "\n",
       ".h5glance-css-treeview label::before\n",
       "{\n",
       "\tcontent: \"+\";\n",
       "\twidth: 1.5em;\n",
       "\tvertical-align: middle;\n",
       "}\n",
       "\n",
       ".h5glance-css-treeview input:checked + label::before\n",
       "{\n",
       "    content: \"–\";\n",
       "}\n",
       "\n",
       "/* webkit adjacent element selector bugfix */\n",
       "@media screen and (-webkit-min-device-pixel-ratio:0)\n",
       "{\n",
       "\t.h5glance-css-treeview\n",
       "\t{\n",
       "\t\t-webkit-animation: webkit-adjacent-element-selector-bugfix infinite 1s;\n",
       "\t}\n",
       "\n",
       "\t@-webkit-keyframes webkit-adjacent-element-selector-bugfix\n",
       "\t{\n",
       "\t\tfrom\n",
       "\t\t{\n",
       "\t\t\tpadding: 0;\n",
       "\t\t}\n",
       "\t\tto\n",
       "\t\t{\n",
       "\t\t\tpadding: 0;\n",
       "\t\t}\n",
       "\t}\n",
       "}\n",
       "\n",
       ".h5glance-css-treeview li.h5glance-dataset {\n",
       "    margin-bottom: 3px;\n",
       "}\n",
       "\n",
       ".h5glance-dataset-name {\n",
       "    font-weight: bold;\n",
       "}\n",
       "</style><div id=\"h5glance-container-0\" class=\"h5glance-css-treeview\"><ul><li><input checked=\"checked\" id=\"h5glance-expand-switch-0\" type=\"checkbox\"/><label for=\"h5glance-expand-switch-0\">/gpfs/exfel/exp/XMPL/201750/p700000/raw/r0001/RAW-R0017-AGIPD01-S00001.h5</label><ul><li><input id=\"h5glance-expand-switch-1\" type=\"checkbox\"/><label for=\"h5glance-expand-switch-1\">INDEX</label><ul><li><input id=\"h5glance-expand-switch-2\" type=\"checkbox\"/><label for=\"h5glance-expand-switch-2\">SPB_DET_AGIPD1M-1</label><ul><li><input id=\"h5glance-expand-switch-3\" type=\"checkbox\"/><label for=\"h5glance-expand-switch-3\">DET</label><ul><li><input id=\"h5glance-expand-switch-4\" type=\"checkbox\"/><label for=\"h5glance-expand-switch-4\">1CH0:xtdf</label><ul><li><input id=\"h5glance-expand-switch-5\" type=\"checkbox\"/><label for=\"h5glance-expand-switch-5\">detector</label><ul><li class=\"h5glance-dataset\"><span class=\"h5glance-dataset-name\">count</span> <a data-hdf5-path=\"/INDEX/SPB_DET_AGIPD1M-1/DET/1CH0:xtdf/detector/count\" href=\"#\" class=\"h5glance-dataset-copylink\">[📋]</a>: 512 entries, dtype: <abbr title=\"64-bit unsigned integer\"><code>&lt;u8</code></abbr></li><li class=\"h5glance-dataset\"><span class=\"h5glance-dataset-name\">first</span> <a data-hdf5-path=\"/INDEX/SPB_DET_AGIPD1M-1/DET/1CH0:xtdf/detector/first\" href=\"#\" class=\"h5glance-dataset-copylink\">[📋]</a>: 512 entries, dtype: <abbr title=\"64-bit unsigned integer\"><code>&lt;u8</code></abbr></li></ul></li><li><input id=\"h5glance-expand-switch-6\" type=\"checkbox\"/><label for=\"h5glance-expand-switch-6\">header</label><ul><li class=\"h5glance-dataset\"><span class=\"h5glance-dataset-name\">count</span> <a data-hdf5-path=\"/INDEX/SPB_DET_AGIPD1M-1/DET/1CH0:xtdf/header/count\" href=\"#\" class=\"h5glance-dataset-copylink\">[📋]</a>: 512 entries, dtype: <abbr title=\"64-bit unsigned integer\"><code>&lt;u8</code></abbr></li><li class=\"h5glance-dataset\"><span class=\"h5glance-dataset-name\">first</span> <a data-hdf5-path=\"/INDEX/SPB_DET_AGIPD1M-1/DET/1CH0:xtdf/header/first\" href=\"#\" class=\"h5glance-dataset-copylink\">[📋]</a>: 512 entries, dtype: <abbr title=\"64-bit unsigned integer\"><code>&lt;u8</code></abbr></li></ul></li><li><input id=\"h5glance-expand-switch-7\" type=\"checkbox\"/><label for=\"h5glance-expand-switch-7\">image</label><ul><li class=\"h5glance-dataset\"><span class=\"h5glance-dataset-name\">count</span> <a data-hdf5-path=\"/INDEX/SPB_DET_AGIPD1M-1/DET/1CH0:xtdf/image/count\" href=\"#\" class=\"h5glance-dataset-copylink\">[📋]</a>: 512 entries, dtype: <abbr title=\"64-bit unsigned integer\"><code>&lt;u8</code></abbr></li><li class=\"h5glance-dataset\"><span class=\"h5glance-dataset-name\">first</span> <a data-hdf5-path=\"/INDEX/SPB_DET_AGIPD1M-1/DET/1CH0:xtdf/image/first\" href=\"#\" class=\"h5glance-dataset-copylink\">[📋]</a>: 512 entries, dtype: <abbr title=\"64-bit unsigned integer\"><code>&lt;u8</code></abbr></li></ul></li><li><input id=\"h5glance-expand-switch-8\" type=\"checkbox\"/><label for=\"h5glance-expand-switch-8\">trailer</label><ul><li class=\"h5glance-dataset\"><span class=\"h5glance-dataset-name\">count</span> <a data-hdf5-path=\"/INDEX/SPB_DET_AGIPD1M-1/DET/1CH0:xtdf/trailer/count\" href=\"#\" class=\"h5glance-dataset-copylink\">[📋]</a>: 512 entries, dtype: <abbr title=\"64-bit unsigned integer\"><code>&lt;u8</code></abbr></li><li class=\"h5glance-dataset\"><span class=\"h5glance-dataset-name\">first</span> <a data-hdf5-path=\"/INDEX/SPB_DET_AGIPD1M-1/DET/1CH0:xtdf/trailer/first\" href=\"#\" class=\"h5glance-dataset-copylink\">[📋]</a>: 512 entries, dtype: <abbr title=\"64-bit unsigned integer\"><code>&lt;u8</code></abbr></li></ul></li></ul></li></ul></li></ul></li><li class=\"h5glance-dataset\"><span class=\"h5glance-dataset-name\">trainId</span> <a data-hdf5-path=\"/INDEX/trainId\" href=\"#\" class=\"h5glance-dataset-copylink\">[📋]</a>: 512 entries, dtype: <abbr title=\"64-bit unsigned integer\"><code>&lt;u8</code></abbr></li></ul></li><li><input id=\"h5glance-expand-switch-9\" type=\"checkbox\"/><label for=\"h5glance-expand-switch-9\">INSTRUMENT</label><ul><li><input id=\"h5glance-expand-switch-10\" type=\"checkbox\"/><label for=\"h5glance-expand-switch-10\">SPB_DET_AGIPD1M-1</label><ul><li><input id=\"h5glance-expand-switch-11\" type=\"checkbox\"/><label for=\"h5glance-expand-switch-11\">DET</label><ul><li><input id=\"h5glance-expand-switch-12\" type=\"checkbox\"/><label for=\"h5glance-expand-switch-12\">1CH0:xtdf</label><ul><li><input id=\"h5glance-expand-switch-13\" type=\"checkbox\"/><label for=\"h5glance-expand-switch-13\">detector</label><ul><li class=\"h5glance-dataset\"><span class=\"h5glance-dataset-name\">data</span> <a data-hdf5-path=\"/INSTRUMENT/SPB_DET_AGIPD1M-1/DET/1CH0:xtdf/detector/data\" href=\"#\" class=\"h5glance-dataset-copylink\">[📋]</a>: 512 × 5408 entries, dtype: <abbr title=\"8-bit unsigned integer\"><code>|u1</code></abbr></li><li class=\"h5glance-dataset\"><span class=\"h5glance-dataset-name\">trainId</span> <a data-hdf5-path=\"/INSTRUMENT/SPB_DET_AGIPD1M-1/DET/1CH0:xtdf/detector/trainId\" href=\"#\" class=\"h5glance-dataset-copylink\">[📋]</a>: 512 entries, dtype: <abbr title=\"64-bit unsigned integer\"><code>&lt;u8</code></abbr></li></ul></li><li><input id=\"h5glance-expand-switch-14\" type=\"checkbox\"/><label for=\"h5glance-expand-switch-14\">header</label><ul><li class=\"h5glance-dataset\"><span class=\"h5glance-dataset-name\">dataId</span> <a data-hdf5-path=\"/INSTRUMENT/SPB_DET_AGIPD1M-1/DET/1CH0:xtdf/header/dataId\" href=\"#\" class=\"h5glance-dataset-copylink\">[📋]</a>: 512 entries, dtype: <abbr title=\"64-bit unsigned integer\"><code>&lt;u8</code></abbr></li><li class=\"h5glance-dataset\"><span class=\"h5glance-dataset-name\">linkId</span> <a data-hdf5-path=\"/INSTRUMENT/SPB_DET_AGIPD1M-1/DET/1CH0:xtdf/header/linkId\" href=\"#\" class=\"h5glance-dataset-copylink\">[📋]</a>: 512 entries, dtype: <abbr title=\"64-bit unsigned integer\"><code>&lt;u8</code></abbr></li><li class=\"h5glance-dataset\"><span class=\"h5glance-dataset-name\">magicNumberBegin</span> <a data-hdf5-path=\"/INSTRUMENT/SPB_DET_AGIPD1M-1/DET/1CH0:xtdf/header/magicNumberBegin\" href=\"#\" class=\"h5glance-dataset-copylink\">[📋]</a>: 512 × 8 entries, dtype: <abbr title=\"8-bit signed integer\"><code>|i1</code></abbr></li><li class=\"h5glance-dataset\"><span class=\"h5glance-dataset-name\">majorTrainFormatVersion</span> <a data-hdf5-path=\"/INSTRUMENT/SPB_DET_AGIPD1M-1/DET/1CH0:xtdf/header/majorTrainFormatVersion\" href=\"#\" class=\"h5glance-dataset-copylink\">[📋]</a>: 512 entries, dtype: <abbr title=\"32-bit unsigned integer\"><code>&lt;u4</code></abbr></li><li class=\"h5glance-dataset\"><span class=\"h5glance-dataset-name\">minorTrainFormatVersion</span> <a data-hdf5-path=\"/INSTRUMENT/SPB_DET_AGIPD1M-1/DET/1CH0:xtdf/header/minorTrainFormatVersion\" href=\"#\" class=\"h5glance-dataset-copylink\">[📋]</a>: 512 entries, dtype: <abbr title=\"32-bit unsigned integer\"><code>&lt;u4</code></abbr></li><li class=\"h5glance-dataset\"><span class=\"h5glance-dataset-name\">pulseCount</span> <a data-hdf5-path=\"/INSTRUMENT/SPB_DET_AGIPD1M-1/DET/1CH0:xtdf/header/pulseCount\" href=\"#\" class=\"h5glance-dataset-copylink\">[📋]</a>: 512 entries, dtype: <abbr title=\"64-bit unsigned integer\"><code>&lt;u8</code></abbr></li><li class=\"h5glance-dataset\"><span class=\"h5glance-dataset-name\">reserved</span> <a data-hdf5-path=\"/INSTRUMENT/SPB_DET_AGIPD1M-1/DET/1CH0:xtdf/header/reserved\" href=\"#\" class=\"h5glance-dataset-copylink\">[📋]</a>: 512 × 16 entries, dtype: <abbr title=\"8-bit unsigned integer\"><code>|u1</code></abbr></li><li class=\"h5glance-dataset\"><span class=\"h5glance-dataset-name\">trainId</span> <a data-hdf5-path=\"/INSTRUMENT/SPB_DET_AGIPD1M-1/DET/1CH0:xtdf/header/trainId\" href=\"#\" class=\"h5glance-dataset-copylink\">[📋]</a>: 512 entries, dtype: <abbr title=\"64-bit unsigned integer\"><code>&lt;u8</code></abbr></li></ul></li><li><input id=\"h5glance-expand-switch-15\" type=\"checkbox\"/><label for=\"h5glance-expand-switch-15\">image</label><ul><li class=\"h5glance-dataset\"><span class=\"h5glance-dataset-name\">cellId</span> <a data-hdf5-path=\"/INSTRUMENT/SPB_DET_AGIPD1M-1/DET/1CH0:xtdf/image/cellId\" href=\"#\" class=\"h5glance-dataset-copylink\">[📋]</a>: 32768 × 1 entries, dtype: <abbr title=\"16-bit unsigned integer\"><code>&lt;u2</code></abbr></li><li class=\"h5glance-dataset\"><span class=\"h5glance-dataset-name\">data</span> <a data-hdf5-path=\"/INSTRUMENT/SPB_DET_AGIPD1M-1/DET/1CH0:xtdf/image/data\" href=\"#\" class=\"h5glance-dataset-copylink\">[📋]</a>: 32768 × 2 × 512 × 128 entries, dtype: <abbr title=\"16-bit unsigned integer\"><code>&lt;u2</code></abbr></li><li class=\"h5glance-dataset\"><span class=\"h5glance-dataset-name\">length</span> <a data-hdf5-path=\"/INSTRUMENT/SPB_DET_AGIPD1M-1/DET/1CH0:xtdf/image/length\" href=\"#\" class=\"h5glance-dataset-copylink\">[📋]</a>: 32768 × 1 entries, dtype: <abbr title=\"32-bit unsigned integer\"><code>&lt;u4</code></abbr></li><li class=\"h5glance-dataset\"><span class=\"h5glance-dataset-name\">pulseId</span> <a data-hdf5-path=\"/INSTRUMENT/SPB_DET_AGIPD1M-1/DET/1CH0:xtdf/image/pulseId\" href=\"#\" class=\"h5glance-dataset-copylink\">[📋]</a>: 32768 × 1 entries, dtype: <abbr title=\"64-bit unsigned integer\"><code>&lt;u8</code></abbr></li><li class=\"h5glance-dataset\"><span class=\"h5glance-dataset-name\">status</span> <a data-hdf5-path=\"/INSTRUMENT/SPB_DET_AGIPD1M-1/DET/1CH0:xtdf/image/status\" href=\"#\" class=\"h5glance-dataset-copylink\">[📋]</a>: 32768 × 1 entries, dtype: <abbr title=\"16-bit unsigned integer\"><code>&lt;u2</code></abbr></li><li class=\"h5glance-dataset\"><span class=\"h5glance-dataset-name\">trainId</span> <a data-hdf5-path=\"/INSTRUMENT/SPB_DET_AGIPD1M-1/DET/1CH0:xtdf/image/trainId\" href=\"#\" class=\"h5glance-dataset-copylink\">[📋]</a>: 32768 × 1 entries, dtype: <abbr title=\"64-bit unsigned integer\"><code>&lt;u8</code></abbr></li></ul></li><li><input id=\"h5glance-expand-switch-16\" type=\"checkbox\"/><label for=\"h5glance-expand-switch-16\">trailer</label><ul><li class=\"h5glance-dataset\"><span class=\"h5glance-dataset-name\">checksum</span> <a data-hdf5-path=\"/INSTRUMENT/SPB_DET_AGIPD1M-1/DET/1CH0:xtdf/trailer/checksum\" href=\"#\" class=\"h5glance-dataset-copylink\">[📋]</a>: 512 × 16 entries, dtype: <abbr title=\"8-bit signed integer\"><code>|i1</code></abbr></li><li class=\"h5glance-dataset\"><span class=\"h5glance-dataset-name\">magicNumberEnd</span> <a data-hdf5-path=\"/INSTRUMENT/SPB_DET_AGIPD1M-1/DET/1CH0:xtdf/trailer/magicNumberEnd\" href=\"#\" class=\"h5glance-dataset-copylink\">[📋]</a>: 512 × 8 entries, dtype: <abbr title=\"8-bit signed integer\"><code>|i1</code></abbr></li><li class=\"h5glance-dataset\"><span class=\"h5glance-dataset-name\">status</span> <a data-hdf5-path=\"/INSTRUMENT/SPB_DET_AGIPD1M-1/DET/1CH0:xtdf/trailer/status\" href=\"#\" class=\"h5glance-dataset-copylink\">[📋]</a>: 512 entries, dtype: <abbr title=\"64-bit unsigned integer\"><code>&lt;u8</code></abbr></li><li class=\"h5glance-dataset\"><span class=\"h5glance-dataset-name\">trainId</span> <a data-hdf5-path=\"/INSTRUMENT/SPB_DET_AGIPD1M-1/DET/1CH0:xtdf/trailer/trainId\" href=\"#\" class=\"h5glance-dataset-copylink\">[📋]</a>: 512 entries, dtype: <abbr title=\"64-bit unsigned integer\"><code>&lt;u8</code></abbr></li></ul></li></ul></li></ul></li></ul></li></ul></li><li><input id=\"h5glance-expand-switch-17\" type=\"checkbox\"/><label for=\"h5glance-expand-switch-17\">METADATA</label><ul><li class=\"h5glance-dataset\"><span class=\"h5glance-dataset-name\">dataSourceId</span> <a data-hdf5-path=\"/METADATA/dataSourceId\" href=\"#\" class=\"h5glance-dataset-copylink\">[📋]</a>: 32 entries, dtype: <abbr title=\"object (e.g. string)\"><code>|O</code></abbr></li><li class=\"h5glance-dataset\"><span class=\"h5glance-dataset-name\">deviceId</span> <a data-hdf5-path=\"/METADATA/deviceId\" href=\"#\" class=\"h5glance-dataset-copylink\">[📋]</a>: 32 entries, dtype: <abbr title=\"object (e.g. string)\"><code>|O</code></abbr></li><li class=\"h5glance-dataset\"><span class=\"h5glance-dataset-name\">root</span> <a data-hdf5-path=\"/METADATA/root\" href=\"#\" class=\"h5glance-dataset-copylink\">[📋]</a>: 32 entries, dtype: <abbr title=\"object (e.g. string)\"><code>|O</code></abbr></li></ul></li><li><input id=\"h5glance-expand-switch-18\" type=\"checkbox\"/><label for=\"h5glance-expand-switch-18\">RUN</label><ul></ul></li></ul></li></ul></div><script>// Based on code by Stackoverflow user Dean Taylor\n",
       "// https://stackoverflow.com/questions/400212/how-do-i-copy-to-the-clipboard-in-javascript/30810322\n",
       "// Used under Stackoverflow's CC-BY-SA 3.0 license\n",
       "\n",
       "(function() {\n",
       "    function copyTextToClipboard(text) {\n",
       "        let textArea = document.createElement(\"textarea\");\n",
       "\n",
       "        //\n",
       "        // *** This styling is an extra step which is likely not required. ***\n",
       "        //\n",
       "        // Why is it here? To ensure:\n",
       "        // 1. the element is able to have focus and selection.\n",
       "        // 2. if element was to flash render it has minimal visual impact.\n",
       "        // 3. less flakyness with selection and copying which **might** occur if\n",
       "        //    the textarea element is not visible.\n",
       "        //\n",
       "        // The likelihood is the element won't even render, not even a flash,\n",
       "        // so some of these are just precautions. However in IE the element\n",
       "        // is visible whilst the popup box asking the user for permission for\n",
       "        // the web page to copy to the clipboard.\n",
       "        //\n",
       "\n",
       "        // Place in top-left corner of screen regardless of scroll position.\n",
       "        textArea.style.position = 'fixed';\n",
       "        textArea.style.top = 0;\n",
       "        textArea.style.left = 0;\n",
       "\n",
       "        // Ensure it has a small width and height. Setting to 1px / 1em\n",
       "        // doesn't work as this gives a negative w/h on some browsers.\n",
       "        textArea.style.width = '2em';\n",
       "        textArea.style.height = '2em';\n",
       "\n",
       "        // We don't need padding, reducing the size if it does flash render.\n",
       "        textArea.style.padding = 0;\n",
       "\n",
       "        // Clean up any borders.\n",
       "        textArea.style.border = 'none';\n",
       "        textArea.style.outline = 'none';\n",
       "        textArea.style.boxShadow = 'none';\n",
       "\n",
       "        // Avoid flash of white box if rendered for any reason.\n",
       "        textArea.style.background = 'transparent';\n",
       "\n",
       "\n",
       "        textArea.value = text;\n",
       "\n",
       "        document.body.appendChild(textArea);\n",
       "        textArea.focus();\n",
       "        textArea.select();\n",
       "\n",
       "        try {\n",
       "            if (!document.execCommand('copy')) {\n",
       "                console.log(\"Unable to copy text with document.execCommand()\");\n",
       "            }\n",
       "        } finally {\n",
       "            document.body.removeChild(textArea);\n",
       "        }\n",
       "    }\n",
       "\n",
       "    function copy_event_handler(event) {\n",
       "        copyTextToClipboard(event.target.dataset.hdf5Path);\n",
       "        event.preventDefault();\n",
       "    }\n",
       "\n",
       "    function enable_copylinks(parent) {\n",
       "        let links = parent.querySelectorAll(\".h5glance-dataset-copylink\");\n",
       "        links.forEach(function (link) {\n",
       "            link.addEventListener(\"click\", copy_event_handler);\n",
       "        });\n",
       "    }\n",
       "\n",
       "    // The code to actually trigger this is substituted below.\n",
       "    \n",
       "enable_copylinks(document.getElementById(\"h5glance-container-0\"));\n",
       "\n",
       "})();\n",
       "</script></div>"
      ],
      "text/plain": [
       "<h5glance.generate.H5Glance at 0x2ab9183bb128>"
      ]
     },
     "execution_count": 3,
     "metadata": {},
     "output_type": "execute_result"
    }
   ],
   "source": [
    "H5Glance(file_raw)"
   ]
  },
  {
   "cell_type": "code",
   "execution_count": 4,
   "metadata": {},
   "outputs": [
    {
     "data": {
      "text/html": [
       "<div><style>/* Based on https://css-tricks.com/snippets/css/nested-expandable-folders/\n",
       "   Reused with permission from https://css-tricks.com/license/\n",
       "*/\n",
       "\n",
       ".h5glance-css-treeview ul,\n",
       ".h5glance-css-treeview li\n",
       "{\n",
       "\tpadding: 0;\n",
       "\tmargin: 0;\n",
       "    margin-left: 12px;\n",
       "\tlist-style: none;\n",
       "}\n",
       "\n",
       "/* Override padding from Jupyter CSS */\n",
       ".rendered_html .h5glance-css-treeview ul {\n",
       "    padding: 0;\n",
       "}\n",
       "\n",
       "/* Make the checkbox itself invisible */\n",
       ".h5glance-css-treeview input\n",
       "{\n",
       "\tposition: absolute;\n",
       "\topacity: 0;\n",
       "}\n",
       "\n",
       ".h5glance-css-treeview\n",
       "{\n",
       "    font-family: sans-serif;\n",
       "\t-moz-user-select: none;\n",
       "\t-webkit-user-select: none;\n",
       "\tuser-select: none;\n",
       "}\n",
       "\n",
       ".h5glance-css-treeview code {\n",
       "    font-size: 12pt;\n",
       "    font-family: \"courier\", monospace;\n",
       "}\n",
       "\n",
       ".h5glance-css-treeview a.h5glance-dataset-copylink\n",
       "{\n",
       "    text-decoration: none;\n",
       "}\n",
       "\n",
       "/* These next two bits drive the expanding/collapsing behaviour */\n",
       ".h5glance-css-treeview input + label + ul\n",
       "{\n",
       "\tdisplay: none;\n",
       "}\n",
       "\n",
       ".h5glance-css-treeview input:checked:not(:disabled) + label + ul\n",
       "{\n",
       "\tdisplay: block;\n",
       "}\n",
       "\n",
       ".h5glance-css-treeview label,\n",
       ".h5glance-css-treeview label::before\n",
       "{\n",
       "\tdisplay: inline-block;\n",
       "\theight: 16px;\n",
       "\tline-height: 16px;,\n",
       "\tvertical-align: middle;\n",
       "}\n",
       "\n",
       ".h5glance-css-treeview label\n",
       "{\n",
       "    margin-left: -1.5em;\n",
       "}\n",
       "\n",
       ".h5glance-css-treeview label::before\n",
       "{\n",
       "\tcontent: \"+\";\n",
       "\twidth: 1.5em;\n",
       "\tvertical-align: middle;\n",
       "}\n",
       "\n",
       ".h5glance-css-treeview input:checked + label::before\n",
       "{\n",
       "    content: \"–\";\n",
       "}\n",
       "\n",
       "/* webkit adjacent element selector bugfix */\n",
       "@media screen and (-webkit-min-device-pixel-ratio:0)\n",
       "{\n",
       "\t.h5glance-css-treeview\n",
       "\t{\n",
       "\t\t-webkit-animation: webkit-adjacent-element-selector-bugfix infinite 1s;\n",
       "\t}\n",
       "\n",
       "\t@-webkit-keyframes webkit-adjacent-element-selector-bugfix\n",
       "\t{\n",
       "\t\tfrom\n",
       "\t\t{\n",
       "\t\t\tpadding: 0;\n",
       "\t\t}\n",
       "\t\tto\n",
       "\t\t{\n",
       "\t\t\tpadding: 0;\n",
       "\t\t}\n",
       "\t}\n",
       "}\n",
       "\n",
       ".h5glance-css-treeview li.h5glance-dataset {\n",
       "    margin-bottom: 3px;\n",
       "}\n",
       "\n",
       ".h5glance-dataset-name {\n",
       "    font-weight: bold;\n",
       "}\n",
       "</style><div id=\"h5glance-container-1\" class=\"h5glance-css-treeview\"><ul><li><input checked=\"checked\" id=\"h5glance-expand-switch-19\" type=\"checkbox\"/><label for=\"h5glance-expand-switch-19\">/gpfs/exfel/exp/XMPL/201750/p700000/proc/r0001/CORR-R0017-AGIPD01-S00001.h5</label><ul><li><input id=\"h5glance-expand-switch-20\" type=\"checkbox\"/><label for=\"h5glance-expand-switch-20\">INDEX</label><ul><li><input id=\"h5glance-expand-switch-21\" type=\"checkbox\"/><label for=\"h5glance-expand-switch-21\">SPB_DET_AGIPD1M-1</label><ul><li><input id=\"h5glance-expand-switch-22\" type=\"checkbox\"/><label for=\"h5glance-expand-switch-22\">DET</label><ul><li><input id=\"h5glance-expand-switch-23\" type=\"checkbox\"/><label for=\"h5glance-expand-switch-23\">1CH0:xtdf</label><ul><li><input id=\"h5glance-expand-switch-24\" type=\"checkbox\"/><label for=\"h5glance-expand-switch-24\">detector</label><ul><li class=\"h5glance-dataset\"><span class=\"h5glance-dataset-name\">count</span> <a data-hdf5-path=\"/INDEX/SPB_DET_AGIPD1M-1/DET/1CH0:xtdf/detector/count\" href=\"#\" class=\"h5glance-dataset-copylink\">[📋]</a>: 512 entries, dtype: <abbr title=\"64-bit unsigned integer\"><code>&lt;u8</code></abbr></li><li class=\"h5glance-dataset\"><span class=\"h5glance-dataset-name\">first</span> <a data-hdf5-path=\"/INDEX/SPB_DET_AGIPD1M-1/DET/1CH0:xtdf/detector/first\" href=\"#\" class=\"h5glance-dataset-copylink\">[📋]</a>: 512 entries, dtype: <abbr title=\"64-bit unsigned integer\"><code>&lt;u8</code></abbr></li></ul></li><li><input id=\"h5glance-expand-switch-25\" type=\"checkbox\"/><label for=\"h5glance-expand-switch-25\">header</label><ul><li class=\"h5glance-dataset\"><span class=\"h5glance-dataset-name\">count</span> <a data-hdf5-path=\"/INDEX/SPB_DET_AGIPD1M-1/DET/1CH0:xtdf/header/count\" href=\"#\" class=\"h5glance-dataset-copylink\">[📋]</a>: 512 entries, dtype: <abbr title=\"64-bit unsigned integer\"><code>&lt;u8</code></abbr></li><li class=\"h5glance-dataset\"><span class=\"h5glance-dataset-name\">first</span> <a data-hdf5-path=\"/INDEX/SPB_DET_AGIPD1M-1/DET/1CH0:xtdf/header/first\" href=\"#\" class=\"h5glance-dataset-copylink\">[📋]</a>: 512 entries, dtype: <abbr title=\"64-bit unsigned integer\"><code>&lt;u8</code></abbr></li></ul></li><li><input id=\"h5glance-expand-switch-26\" type=\"checkbox\"/><label for=\"h5glance-expand-switch-26\">image</label><ul><li class=\"h5glance-dataset\"><span class=\"h5glance-dataset-name\">count</span> <a data-hdf5-path=\"/INDEX/SPB_DET_AGIPD1M-1/DET/1CH0:xtdf/image/count\" href=\"#\" class=\"h5glance-dataset-copylink\">[📋]</a>: 512 entries, dtype: <abbr title=\"64-bit unsigned integer\"><code>&lt;u8</code></abbr></li><li class=\"h5glance-dataset\"><span class=\"h5glance-dataset-name\">first</span> <a data-hdf5-path=\"/INDEX/SPB_DET_AGIPD1M-1/DET/1CH0:xtdf/image/first\" href=\"#\" class=\"h5glance-dataset-copylink\">[📋]</a>: 512 entries, dtype: <abbr title=\"64-bit unsigned integer\"><code>&lt;u8</code></abbr></li></ul></li><li><input id=\"h5glance-expand-switch-27\" type=\"checkbox\"/><label for=\"h5glance-expand-switch-27\">trailer</label><ul><li class=\"h5glance-dataset\"><span class=\"h5glance-dataset-name\">count</span> <a data-hdf5-path=\"/INDEX/SPB_DET_AGIPD1M-1/DET/1CH0:xtdf/trailer/count\" href=\"#\" class=\"h5glance-dataset-copylink\">[📋]</a>: 512 entries, dtype: <abbr title=\"64-bit unsigned integer\"><code>&lt;u8</code></abbr></li><li class=\"h5glance-dataset\"><span class=\"h5glance-dataset-name\">first</span> <a data-hdf5-path=\"/INDEX/SPB_DET_AGIPD1M-1/DET/1CH0:xtdf/trailer/first\" href=\"#\" class=\"h5glance-dataset-copylink\">[📋]</a>: 512 entries, dtype: <abbr title=\"64-bit unsigned integer\"><code>&lt;u8</code></abbr></li></ul></li></ul></li></ul></li></ul></li><li class=\"h5glance-dataset\"><span class=\"h5glance-dataset-name\">trainId</span> <a data-hdf5-path=\"/INDEX/trainId\" href=\"#\" class=\"h5glance-dataset-copylink\">[📋]</a>: 512 entries, dtype: <abbr title=\"64-bit unsigned integer\"><code>&lt;u8</code></abbr></li></ul></li><li><input id=\"h5glance-expand-switch-28\" type=\"checkbox\"/><label for=\"h5glance-expand-switch-28\">INSTRUMENT</label><ul><li><input id=\"h5glance-expand-switch-29\" type=\"checkbox\"/><label for=\"h5glance-expand-switch-29\">SPB_DET_AGIPD1M-1</label><ul><li><input id=\"h5glance-expand-switch-30\" type=\"checkbox\"/><label for=\"h5glance-expand-switch-30\">DET</label><ul><li><input id=\"h5glance-expand-switch-31\" type=\"checkbox\"/><label for=\"h5glance-expand-switch-31\">1CH0:xtdf</label><ul><li><input id=\"h5glance-expand-switch-32\" type=\"checkbox\"/><label for=\"h5glance-expand-switch-32\">detector</label><ul><li class=\"h5glance-dataset\"><span class=\"h5glance-dataset-name\">data</span> <a data-hdf5-path=\"/INSTRUMENT/SPB_DET_AGIPD1M-1/DET/1CH0:xtdf/detector/data\" href=\"#\" class=\"h5glance-dataset-copylink\">[📋]</a>: 512 × 5408 entries, dtype: <abbr title=\"8-bit unsigned integer\"><code>|u1</code></abbr></li><li class=\"h5glance-dataset\"><span class=\"h5glance-dataset-name\">trainId</span> <a data-hdf5-path=\"/INSTRUMENT/SPB_DET_AGIPD1M-1/DET/1CH0:xtdf/detector/trainId\" href=\"#\" class=\"h5glance-dataset-copylink\">[📋]</a>: 512 entries, dtype: <abbr title=\"64-bit unsigned integer\"><code>&lt;u8</code></abbr></li></ul></li><li><input id=\"h5glance-expand-switch-33\" type=\"checkbox\"/><label for=\"h5glance-expand-switch-33\">header</label><ul><li class=\"h5glance-dataset\"><span class=\"h5glance-dataset-name\">dataId</span> <a data-hdf5-path=\"/INSTRUMENT/SPB_DET_AGIPD1M-1/DET/1CH0:xtdf/header/dataId\" href=\"#\" class=\"h5glance-dataset-copylink\">[📋]</a>: 512 entries, dtype: <abbr title=\"64-bit unsigned integer\"><code>&lt;u8</code></abbr></li><li class=\"h5glance-dataset\"><span class=\"h5glance-dataset-name\">linkId</span> <a data-hdf5-path=\"/INSTRUMENT/SPB_DET_AGIPD1M-1/DET/1CH0:xtdf/header/linkId\" href=\"#\" class=\"h5glance-dataset-copylink\">[📋]</a>: 512 entries, dtype: <abbr title=\"64-bit unsigned integer\"><code>&lt;u8</code></abbr></li><li class=\"h5glance-dataset\"><span class=\"h5glance-dataset-name\">magicNumberBegin</span> <a data-hdf5-path=\"/INSTRUMENT/SPB_DET_AGIPD1M-1/DET/1CH0:xtdf/header/magicNumberBegin\" href=\"#\" class=\"h5glance-dataset-copylink\">[📋]</a>: 512 × 8 entries, dtype: <abbr title=\"8-bit signed integer\"><code>|i1</code></abbr></li><li class=\"h5glance-dataset\"><span class=\"h5glance-dataset-name\">majorTrainFormatVersion</span> <a data-hdf5-path=\"/INSTRUMENT/SPB_DET_AGIPD1M-1/DET/1CH0:xtdf/header/majorTrainFormatVersion\" href=\"#\" class=\"h5glance-dataset-copylink\">[📋]</a>: 512 entries, dtype: <abbr title=\"32-bit unsigned integer\"><code>&lt;u4</code></abbr></li><li class=\"h5glance-dataset\"><span class=\"h5glance-dataset-name\">minorTrainFormatVersion</span> <a data-hdf5-path=\"/INSTRUMENT/SPB_DET_AGIPD1M-1/DET/1CH0:xtdf/header/minorTrainFormatVersion\" href=\"#\" class=\"h5glance-dataset-copylink\">[📋]</a>: 512 entries, dtype: <abbr title=\"32-bit unsigned integer\"><code>&lt;u4</code></abbr></li><li class=\"h5glance-dataset\"><span class=\"h5glance-dataset-name\">pulseCount</span> <a data-hdf5-path=\"/INSTRUMENT/SPB_DET_AGIPD1M-1/DET/1CH0:xtdf/header/pulseCount\" href=\"#\" class=\"h5glance-dataset-copylink\">[📋]</a>: 512 entries, dtype: <abbr title=\"64-bit unsigned integer\"><code>&lt;u8</code></abbr></li><li class=\"h5glance-dataset\"><span class=\"h5glance-dataset-name\">reserved</span> <a data-hdf5-path=\"/INSTRUMENT/SPB_DET_AGIPD1M-1/DET/1CH0:xtdf/header/reserved\" href=\"#\" class=\"h5glance-dataset-copylink\">[📋]</a>: 512 × 16 entries, dtype: <abbr title=\"8-bit unsigned integer\"><code>|u1</code></abbr></li><li class=\"h5glance-dataset\"><span class=\"h5glance-dataset-name\">trainId</span> <a data-hdf5-path=\"/INSTRUMENT/SPB_DET_AGIPD1M-1/DET/1CH0:xtdf/header/trainId\" href=\"#\" class=\"h5glance-dataset-copylink\">[📋]</a>: 512 entries, dtype: <abbr title=\"64-bit unsigned integer\"><code>&lt;u8</code></abbr></li></ul></li><li><input id=\"h5glance-expand-switch-34\" type=\"checkbox\"/><label for=\"h5glance-expand-switch-34\">image</label><ul><li class=\"h5glance-dataset\"><span class=\"h5glance-dataset-name\">cellId</span> <a data-hdf5-path=\"/INSTRUMENT/SPB_DET_AGIPD1M-1/DET/1CH0:xtdf/image/cellId\" href=\"#\" class=\"h5glance-dataset-copylink\">[📋]</a>: 32768 entries, dtype: <abbr title=\"16-bit unsigned integer\"><code>&lt;u2</code></abbr></li><li class=\"h5glance-dataset\"><span class=\"h5glance-dataset-name\">data</span> <a data-hdf5-path=\"/INSTRUMENT/SPB_DET_AGIPD1M-1/DET/1CH0:xtdf/image/data\" href=\"#\" class=\"h5glance-dataset-copylink\">[📋]</a>: 32768 × 512 × 128 entries, dtype: <abbr title=\"32-bit floating point\"><code>&lt;f4</code></abbr></li><li class=\"h5glance-dataset\"><span class=\"h5glance-dataset-name\">gain</span> <a data-hdf5-path=\"/INSTRUMENT/SPB_DET_AGIPD1M-1/DET/1CH0:xtdf/image/gain\" href=\"#\" class=\"h5glance-dataset-copylink\">[📋]</a>: 32768 × 512 × 128 entries, dtype: <abbr title=\"8-bit unsigned integer\"><code>|u1</code></abbr></li><li class=\"h5glance-dataset\"><span class=\"h5glance-dataset-name\">length</span> <a data-hdf5-path=\"/INSTRUMENT/SPB_DET_AGIPD1M-1/DET/1CH0:xtdf/image/length\" href=\"#\" class=\"h5glance-dataset-copylink\">[📋]</a>: 32768 × 1 entries, dtype: <abbr title=\"32-bit unsigned integer\"><code>&lt;u4</code></abbr></li><li class=\"h5glance-dataset\"><span class=\"h5glance-dataset-name\">mask</span> <a data-hdf5-path=\"/INSTRUMENT/SPB_DET_AGIPD1M-1/DET/1CH0:xtdf/image/mask\" href=\"#\" class=\"h5glance-dataset-copylink\">[📋]</a>: 32768 × 512 × 128 entries, dtype: <abbr title=\"8-bit unsigned integer\"><code>|u1</code></abbr></li><li class=\"h5glance-dataset\"><span class=\"h5glance-dataset-name\">pulseId</span> <a data-hdf5-path=\"/INSTRUMENT/SPB_DET_AGIPD1M-1/DET/1CH0:xtdf/image/pulseId\" href=\"#\" class=\"h5glance-dataset-copylink\">[📋]</a>: 32768 × 1 entries, dtype: <abbr title=\"64-bit unsigned integer\"><code>&lt;u8</code></abbr></li><li class=\"h5glance-dataset\"><span class=\"h5glance-dataset-name\">status</span> <a data-hdf5-path=\"/INSTRUMENT/SPB_DET_AGIPD1M-1/DET/1CH0:xtdf/image/status\" href=\"#\" class=\"h5glance-dataset-copylink\">[📋]</a>: 32768 × 1 entries, dtype: <abbr title=\"16-bit unsigned integer\"><code>&lt;u2</code></abbr></li><li class=\"h5glance-dataset\"><span class=\"h5glance-dataset-name\">trainId</span> <a data-hdf5-path=\"/INSTRUMENT/SPB_DET_AGIPD1M-1/DET/1CH0:xtdf/image/trainId\" href=\"#\" class=\"h5glance-dataset-copylink\">[📋]</a>: 32768 × 1 entries, dtype: <abbr title=\"64-bit unsigned integer\"><code>&lt;u8</code></abbr></li></ul></li><li><input id=\"h5glance-expand-switch-35\" type=\"checkbox\"/><label for=\"h5glance-expand-switch-35\">trailer</label><ul><li class=\"h5glance-dataset\"><span class=\"h5glance-dataset-name\">checksum</span> <a data-hdf5-path=\"/INSTRUMENT/SPB_DET_AGIPD1M-1/DET/1CH0:xtdf/trailer/checksum\" href=\"#\" class=\"h5glance-dataset-copylink\">[📋]</a>: 512 × 16 entries, dtype: <abbr title=\"8-bit signed integer\"><code>|i1</code></abbr></li><li class=\"h5glance-dataset\"><span class=\"h5glance-dataset-name\">magicNumberEnd</span> <a data-hdf5-path=\"/INSTRUMENT/SPB_DET_AGIPD1M-1/DET/1CH0:xtdf/trailer/magicNumberEnd\" href=\"#\" class=\"h5glance-dataset-copylink\">[📋]</a>: 512 × 8 entries, dtype: <abbr title=\"8-bit signed integer\"><code>|i1</code></abbr></li><li class=\"h5glance-dataset\"><span class=\"h5glance-dataset-name\">status</span> <a data-hdf5-path=\"/INSTRUMENT/SPB_DET_AGIPD1M-1/DET/1CH0:xtdf/trailer/status\" href=\"#\" class=\"h5glance-dataset-copylink\">[📋]</a>: 512 entries, dtype: <abbr title=\"64-bit unsigned integer\"><code>&lt;u8</code></abbr></li><li class=\"h5glance-dataset\"><span class=\"h5glance-dataset-name\">trainId</span> <a data-hdf5-path=\"/INSTRUMENT/SPB_DET_AGIPD1M-1/DET/1CH0:xtdf/trailer/trainId\" href=\"#\" class=\"h5glance-dataset-copylink\">[📋]</a>: 512 entries, dtype: <abbr title=\"64-bit unsigned integer\"><code>&lt;u8</code></abbr></li></ul></li></ul></li></ul></li></ul></li></ul></li><li><input id=\"h5glance-expand-switch-36\" type=\"checkbox\"/><label for=\"h5glance-expand-switch-36\">METADATA</label><ul><li class=\"h5glance-dataset\"><span class=\"h5glance-dataset-name\">dataSourceId</span> <a data-hdf5-path=\"/METADATA/dataSourceId\" href=\"#\" class=\"h5glance-dataset-copylink\">[📋]</a>: 32 entries, dtype: <abbr title=\"object (e.g. string)\"><code>|O</code></abbr></li><li class=\"h5glance-dataset\"><span class=\"h5glance-dataset-name\">deviceId</span> <a data-hdf5-path=\"/METADATA/deviceId\" href=\"#\" class=\"h5glance-dataset-copylink\">[📋]</a>: 32 entries, dtype: <abbr title=\"object (e.g. string)\"><code>|O</code></abbr></li><li class=\"h5glance-dataset\"><span class=\"h5glance-dataset-name\">root</span> <a data-hdf5-path=\"/METADATA/root\" href=\"#\" class=\"h5glance-dataset-copylink\">[📋]</a>: 32 entries, dtype: <abbr title=\"object (e.g. string)\"><code>|O</code></abbr></li></ul></li><li><input id=\"h5glance-expand-switch-37\" type=\"checkbox\"/><label for=\"h5glance-expand-switch-37\">RUN</label><ul></ul></li></ul></li></ul></div><script>// Based on code by Stackoverflow user Dean Taylor\n",
       "// https://stackoverflow.com/questions/400212/how-do-i-copy-to-the-clipboard-in-javascript/30810322\n",
       "// Used under Stackoverflow's CC-BY-SA 3.0 license\n",
       "\n",
       "(function() {\n",
       "    function copyTextToClipboard(text) {\n",
       "        let textArea = document.createElement(\"textarea\");\n",
       "\n",
       "        //\n",
       "        // *** This styling is an extra step which is likely not required. ***\n",
       "        //\n",
       "        // Why is it here? To ensure:\n",
       "        // 1. the element is able to have focus and selection.\n",
       "        // 2. if element was to flash render it has minimal visual impact.\n",
       "        // 3. less flakyness with selection and copying which **might** occur if\n",
       "        //    the textarea element is not visible.\n",
       "        //\n",
       "        // The likelihood is the element won't even render, not even a flash,\n",
       "        // so some of these are just precautions. However in IE the element\n",
       "        // is visible whilst the popup box asking the user for permission for\n",
       "        // the web page to copy to the clipboard.\n",
       "        //\n",
       "\n",
       "        // Place in top-left corner of screen regardless of scroll position.\n",
       "        textArea.style.position = 'fixed';\n",
       "        textArea.style.top = 0;\n",
       "        textArea.style.left = 0;\n",
       "\n",
       "        // Ensure it has a small width and height. Setting to 1px / 1em\n",
       "        // doesn't work as this gives a negative w/h on some browsers.\n",
       "        textArea.style.width = '2em';\n",
       "        textArea.style.height = '2em';\n",
       "\n",
       "        // We don't need padding, reducing the size if it does flash render.\n",
       "        textArea.style.padding = 0;\n",
       "\n",
       "        // Clean up any borders.\n",
       "        textArea.style.border = 'none';\n",
       "        textArea.style.outline = 'none';\n",
       "        textArea.style.boxShadow = 'none';\n",
       "\n",
       "        // Avoid flash of white box if rendered for any reason.\n",
       "        textArea.style.background = 'transparent';\n",
       "\n",
       "\n",
       "        textArea.value = text;\n",
       "\n",
       "        document.body.appendChild(textArea);\n",
       "        textArea.focus();\n",
       "        textArea.select();\n",
       "\n",
       "        try {\n",
       "            if (!document.execCommand('copy')) {\n",
       "                console.log(\"Unable to copy text with document.execCommand()\");\n",
       "            }\n",
       "        } finally {\n",
       "            document.body.removeChild(textArea);\n",
       "        }\n",
       "    }\n",
       "\n",
       "    function copy_event_handler(event) {\n",
       "        copyTextToClipboard(event.target.dataset.hdf5Path);\n",
       "        event.preventDefault();\n",
       "    }\n",
       "\n",
       "    function enable_copylinks(parent) {\n",
       "        let links = parent.querySelectorAll(\".h5glance-dataset-copylink\");\n",
       "        links.forEach(function (link) {\n",
       "            link.addEventListener(\"click\", copy_event_handler);\n",
       "        });\n",
       "    }\n",
       "\n",
       "    // The code to actually trigger this is substituted below.\n",
       "    \n",
       "enable_copylinks(document.getElementById(\"h5glance-container-1\"));\n",
       "\n",
       "})();\n",
       "</script></div>"
      ],
      "text/plain": [
       "<h5glance.generate.H5Glance at 0x2ab9183fa550>"
      ]
     },
     "execution_count": 4,
     "metadata": {},
     "output_type": "execute_result"
    }
   ],
   "source": [
    "H5Glance(file_proc)"
   ]
  },
  {
   "cell_type": "code",
   "execution_count": 3,
   "metadata": {},
   "outputs": [],
   "source": [
    "import sys\n",
    "import os\n",
    "from tables import open_file, Filters"
   ]
  },
  {
   "cell_type": "markdown",
   "metadata": {},
   "source": [
    "## Raw"
   ]
  },
  {
   "cell_type": "code",
   "execution_count": 4,
   "metadata": {},
   "outputs": [
    {
     "name": "stdout",
     "output_type": "stream",
     "text": [
      "Shape of raw image/data: (32768, 2, 512, 128)\n",
      "dtype of raw image/data: uint16\n",
      "Raw file size: 8.594 GB\n",
      "Image/data raw size: 8.590 GB\n"
     ]
    }
   ],
   "source": [
    "toGB = 1000 * 1000 * 1000\n",
    "h5_raw_file = open_file(file_raw, mode='r')\n",
    "image_data_raw = h5_raw_file.root.INSTRUMENT['SPB_DET_AGIPD1M-1']['DET']['1CH0:xtdf']['image']['data'][()]\n",
    "raw_data_size = sys.getsizeof(image_data_raw)\n",
    "h5_raw_file.close()\n",
    "\n",
    "print('Shape of raw image/data: {}'.format(image_data_raw.shape))\n",
    "print('dtype of raw image/data: {}'.format(image_data_raw.dtype))\n",
    "print('Raw file size: {0:.3f} GB'.format(os.path.getsize(file_raw) / toGB))\n",
    "print('Image/data raw size: {0:.3f} GB'.format(raw_data_size / toGB))"
   ]
  },
  {
   "cell_type": "code",
   "execution_count": 5,
   "metadata": {},
   "outputs": [],
   "source": [
    "FILTERS_BLOSC_BLOSCLZ = Filters(complib='blosc:blosclz', complevel=9)\n",
    "h5_blosc_blosclz_file = open_file('files/raw_blosclz_filter.h5', mode='w')\n",
    "h5_blosc_blosclz_file.create_earray('/', 'data', obj=image_data_raw, filters=FILTERS_BLOSC_BLOSCLZ)\n",
    "h5_blosc_blosclz_file.close()"
   ]
  },
  {
   "cell_type": "code",
   "execution_count": 6,
   "metadata": {},
   "outputs": [],
   "source": [
    "raw_compressed_file_size = os.path.getsize('files/raw_blosclz_filter.h5')"
   ]
  },
  {
   "cell_type": "code",
   "execution_count": 7,
   "metadata": {},
   "outputs": [],
   "source": [
    "module_raw_img = image_data_raw[:,0,...]\n",
    "\n",
    "FILTERS_BLOSC_BLOSCLZ = Filters(complib='blosc:blosclz', complevel=9)\n",
    "h5_blosc_blosclz_file = open_file('files/raw_img.h5', mode='w')\n",
    "h5_blosc_blosclz_file.create_earray('/', 'img', obj=module_raw_img, filters=FILTERS_BLOSC_BLOSCLZ)\n",
    "h5_blosc_blosclz_file.close()"
   ]
  },
  {
   "cell_type": "code",
   "execution_count": 15,
   "metadata": {},
   "outputs": [
    {
     "name": "stdout",
     "output_type": "stream",
     "text": [
      "Ratio: 0.82\n"
     ]
    }
   ],
   "source": [
    "print('Ratio: {0:.2f}'.format(raw_compressed_file_size / os.path.getsize(file_raw)))"
   ]
  },
  {
   "cell_type": "markdown",
   "metadata": {},
   "source": [
    "## Proc"
   ]
  },
  {
   "cell_type": "code",
   "execution_count": 4,
   "metadata": {},
   "outputs": [
    {
     "name": "stdout",
     "output_type": "stream",
     "text": [
      "Shape of proc image/data: (32768, 512, 128)\n",
      "Proc file size: 12.889 GB\n",
      "Image/data size: 8.590 GB\n",
      "Mask size: 2.147 GB\n",
      "Gain size: 2.147 GB\n"
     ]
    }
   ],
   "source": [
    "toGB = 1000 * 1000 * 1000\n",
    "\n",
    "h5_proc_file = open_file(file_proc, mode='r')\n",
    "image_data_proc = h5_proc_file.root.INSTRUMENT['SPB_DET_AGIPD1M-1']['DET']['1CH0:xtdf']['image']['data'][()]\n",
    "image_mask_proc = h5_proc_file.root.INSTRUMENT['SPB_DET_AGIPD1M-1']['DET']['1CH0:xtdf']['image']['mask'][()]\n",
    "image_gain_proc = h5_proc_file.root.INSTRUMENT['SPB_DET_AGIPD1M-1']['DET']['1CH0:xtdf']['image']['gain'][()]\n",
    "h5_proc_file.close()\n",
    "\n",
    "print('Shape of proc image/data: {}'.format(image_data_proc.shape))\n",
    "print('Proc file size: {0:.3f} GB'.format(os.path.getsize(file_proc) / toGB))\n",
    "print('Image/data size: {0:.3f} GB'.format(sys.getsizeof(image_data_proc) / toGB))\n",
    "print('Mask size: {0:.3f} GB'.format(sys.getsizeof(image_mask_proc) / toGB))\n",
    "print('Gain size: {0:.3f} GB'.format(sys.getsizeof(image_gain_proc) / toGB))"
   ]
  },
  {
   "cell_type": "code",
   "execution_count": 5,
   "metadata": {},
   "outputs": [],
   "source": [
    "FILTERS_BLOSC_BLOSCLZ = Filters(complib='blosc:blosclz', complevel=9)\n",
    "h5_blosc_blosclz_file_data = open_file('files/proc_blosclz_data_filter.h5', mode='w')\n",
    "h5_blosc_blosclz_file_data.create_earray('/', 'data', obj=image_data_proc, filters=FILTERS_BLOSC_BLOSCLZ)\n",
    "h5_blosc_blosclz_file_data.close()"
   ]
  },
  {
   "cell_type": "code",
   "execution_count": 7,
   "metadata": {},
   "outputs": [],
   "source": [
    "h5_blosc_blosclz_file_gain = open_file('files/proc_blosclz_gain_filter.h5', mode='w')\n",
    "h5_blosc_blosclz_file_gain.create_earray('/', 'gain', obj=image_gain_proc, filters=FILTERS_BLOSC_BLOSCLZ)\n",
    "h5_blosc_blosclz_file_gain.close()\n",
    "\n",
    "h5_blosc_blosclz_file_mask = open_file('files/proc_blosclz_mask_filter.h5', mode='w')\n",
    "h5_blosc_blosclz_file_mask.create_earray('/', 'mask', obj=image_mask_proc, filters=FILTERS_BLOSC_BLOSCLZ)\n",
    "h5_blosc_blosclz_file_mask.close()"
   ]
  },
  {
   "cell_type": "code",
   "execution_count": 8,
   "metadata": {},
   "outputs": [
    {
     "name": "stdout",
     "output_type": "stream",
     "text": [
      "proc compressed data size: 0.933\n",
      "proc compressed gain size: 0.028\n",
      "proc compressed mask size: 0.056\n"
     ]
    }
   ],
   "source": [
    "print('proc compressed data size: {0:.3f}'.format(os.path.getsize('files/proc_blosclz_data_filter.h5') / sys.getsizeof(image_data_proc)))\n",
    "print('proc compressed gain size: {0:.3f}'.format(os.path.getsize('files/proc_blosclz_gain_filter.h5') / sys.getsizeof(image_gain_proc)))\n",
    "print('proc compressed mask size: {0:.3f}'.format(os.path.getsize('files/proc_blosclz_mask_filter.h5') / sys.getsizeof(image_mask_proc)))"
   ]
  },
  {
   "cell_type": "code",
   "execution_count": 9,
   "metadata": {},
   "outputs": [
    {
     "name": "stdout",
     "output_type": "stream",
     "text": [
      "0.6358899155102828\n"
     ]
    }
   ],
   "source": [
    "all_compressed = os.path.getsize('files/proc_blosclz_data_filter.h5') + os.path.getsize('files/proc_blosclz_gain_filter.h5') + os.path.getsize('files/proc_blosclz_mask_filter.h5')\n",
    "print(all_compressed / os.path.getsize(file_proc))"
   ]
  },
  {
   "cell_type": "markdown",
   "metadata": {},
   "source": [
    "## DSSC"
   ]
  },
  {
   "cell_type": "code",
   "execution_count": 5,
   "metadata": {},
   "outputs": [
    {
     "name": "stdout",
     "output_type": "stream",
     "text": [
      "Shape of proc image/data: (25600, 128, 512)\n",
      "Proc file size: 12.889 GB\n",
      "Image/data size: 6.711 GB\n"
     ]
    }
   ],
   "source": [
    "toGB = 1000 * 1000 * 1000\n",
    "\n",
    "h5_proc_file = open_file(file_proc_dssc, mode='r')\n",
    "image_data_proc = h5_proc_file.root.INSTRUMENT['SCS_DET_DSSC1M-1']['DET']['0CH0:xtdf']['image']['data'][()]\n",
    "h5_proc_file.close()\n",
    "\n",
    "print('Shape of proc image/data: {}'.format(image_data_proc.shape))\n",
    "print('Proc file size: {0:.3f} GB'.format(os.path.getsize(file_proc) / toGB))\n",
    "print('Image/data size: {0:.3f} GB'.format(sys.getsizeof(image_data_proc) / toGB))"
   ]
  },
  {
   "cell_type": "code",
   "execution_count": 6,
   "metadata": {},
   "outputs": [],
   "source": [
    "FILTERS_BLOSC_BLOSCLZ = Filters(complib='blosc:blosclz', complevel=9)\n",
    "\n",
    "h5_blosc_blosclz_file_data = open_file('files/proc_blosclz_data_filter.h5', mode='w')\n",
    "h5_blosc_blosclz_file_data.create_earray('/', 'data', obj=image_data_proc, filters=FILTERS_BLOSC_BLOSCLZ)\n",
    "h5_blosc_blosclz_file_data.close()"
   ]
  },
  {
   "cell_type": "code",
   "execution_count": 7,
   "metadata": {},
   "outputs": [
    {
     "name": "stdout",
     "output_type": "stream",
     "text": [
      "proc compressed data size: 0.446\n"
     ]
    }
   ],
   "source": [
    "print('proc compressed data size: {0:.3f}'.format(os.path.getsize('files/proc_blosclz_data_filter.h5') / sys.getsizeof(image_data_proc) * 100))"
   ]
  }
 ],
 "metadata": {
  "kernelspec": {
   "display_name": "xfel",
   "language": "python",
   "name": "xfel"
  },
  "language_info": {
   "codemirror_mode": {
    "name": "ipython",
    "version": 3
   },
   "file_extension": ".py",
   "mimetype": "text/x-python",
   "name": "python",
   "nbconvert_exporter": "python",
   "pygments_lexer": "ipython3",
   "version": "3.7.3"
  }
 },
 "nbformat": 4,
 "nbformat_minor": 2
}
